{
 "cells": [
  {
   "cell_type": "markdown",
   "id": "b467aed4-5ad2-47a8-ad21-7529b79b465f",
   "metadata": {
    "tags": []
   },
   "source": [
    "# User based recommendations"
   ]
  },
  {
   "cell_type": "code",
   "execution_count": 1,
   "id": "d5006321-7caa-46c8-a878-183031335b39",
   "metadata": {},
   "outputs": [],
   "source": [
    "import pandas as pd\n",
    "import scipy\n",
    "from scipy.sparse import csr_matrix\n",
    "from sklearn.metrics.pairwise import cosine_similarity\n",
    "from sklearn.preprocessing import normalize"
   ]
  },
  {
   "cell_type": "code",
   "execution_count": 2,
   "id": "c8948037-0833-495c-84eb-7304d68b1a30",
   "metadata": {},
   "outputs": [],
   "source": [
    "df = pd.read_csv('../data/ratings_pivot.csv')"
   ]
  },
  {
   "cell_type": "code",
   "execution_count": 3,
   "id": "7884aea7-034a-44c9-b5dd-324490bad04b",
   "metadata": {},
   "outputs": [],
   "source": [
    "df = df.set_index('Cust_Id')"
   ]
  },
  {
   "cell_type": "code",
   "execution_count": 4,
   "id": "a16b3f39-28db-426d-9c1c-87225d865d35",
   "metadata": {},
   "outputs": [
    {
     "data": {
      "text/html": [
       "<div>\n",
       "<style scoped>\n",
       "    .dataframe tbody tr th:only-of-type {\n",
       "        vertical-align: middle;\n",
       "    }\n",
       "\n",
       "    .dataframe tbody tr th {\n",
       "        vertical-align: top;\n",
       "    }\n",
       "\n",
       "    .dataframe thead th {\n",
       "        text-align: right;\n",
       "    }\n",
       "</style>\n",
       "<table border=\"1\" class=\"dataframe\">\n",
       "  <thead>\n",
       "    <tr style=\"text-align: right;\">\n",
       "      <th></th>\n",
       "      <th>30</th>\n",
       "      <th>58</th>\n",
       "      <th>77</th>\n",
       "      <th>143</th>\n",
       "      <th>252</th>\n",
       "      <th>257</th>\n",
       "      <th>258</th>\n",
       "      <th>331</th>\n",
       "      <th>341</th>\n",
       "      <th>362</th>\n",
       "      <th>...</th>\n",
       "      <th>17343</th>\n",
       "      <th>17383</th>\n",
       "      <th>17424</th>\n",
       "      <th>17479</th>\n",
       "      <th>17515</th>\n",
       "      <th>17563</th>\n",
       "      <th>17611</th>\n",
       "      <th>17621</th>\n",
       "      <th>17697</th>\n",
       "      <th>17725</th>\n",
       "    </tr>\n",
       "    <tr>\n",
       "      <th>Cust_Id</th>\n",
       "      <th></th>\n",
       "      <th></th>\n",
       "      <th></th>\n",
       "      <th></th>\n",
       "      <th></th>\n",
       "      <th></th>\n",
       "      <th></th>\n",
       "      <th></th>\n",
       "      <th></th>\n",
       "      <th></th>\n",
       "      <th></th>\n",
       "      <th></th>\n",
       "      <th></th>\n",
       "      <th></th>\n",
       "      <th></th>\n",
       "      <th></th>\n",
       "      <th></th>\n",
       "      <th></th>\n",
       "      <th></th>\n",
       "      <th></th>\n",
       "      <th></th>\n",
       "    </tr>\n",
       "  </thead>\n",
       "  <tbody>\n",
       "    <tr>\n",
       "      <th>0</th>\n",
       "      <td>3.0</td>\n",
       "      <td>0.0</td>\n",
       "      <td>0.0</td>\n",
       "      <td>0.0</td>\n",
       "      <td>0.0</td>\n",
       "      <td>0.0</td>\n",
       "      <td>0.0</td>\n",
       "      <td>4.0</td>\n",
       "      <td>0.0</td>\n",
       "      <td>0.0</td>\n",
       "      <td>...</td>\n",
       "      <td>0.0</td>\n",
       "      <td>0.0</td>\n",
       "      <td>0.0</td>\n",
       "      <td>4.0</td>\n",
       "      <td>0.0</td>\n",
       "      <td>0.0</td>\n",
       "      <td>0.0</td>\n",
       "      <td>0.0</td>\n",
       "      <td>0.0</td>\n",
       "      <td>0.0</td>\n",
       "    </tr>\n",
       "    <tr>\n",
       "      <th>3</th>\n",
       "      <td>3.0</td>\n",
       "      <td>0.0</td>\n",
       "      <td>0.0</td>\n",
       "      <td>3.0</td>\n",
       "      <td>0.0</td>\n",
       "      <td>5.0</td>\n",
       "      <td>0.0</td>\n",
       "      <td>3.0</td>\n",
       "      <td>0.0</td>\n",
       "      <td>0.0</td>\n",
       "      <td>...</td>\n",
       "      <td>0.0</td>\n",
       "      <td>0.0</td>\n",
       "      <td>0.0</td>\n",
       "      <td>3.0</td>\n",
       "      <td>0.0</td>\n",
       "      <td>2.0</td>\n",
       "      <td>0.0</td>\n",
       "      <td>0.0</td>\n",
       "      <td>0.0</td>\n",
       "      <td>0.0</td>\n",
       "    </tr>\n",
       "    <tr>\n",
       "      <th>4</th>\n",
       "      <td>4.0</td>\n",
       "      <td>0.0</td>\n",
       "      <td>0.0</td>\n",
       "      <td>4.0</td>\n",
       "      <td>3.0</td>\n",
       "      <td>0.0</td>\n",
       "      <td>0.0</td>\n",
       "      <td>3.0</td>\n",
       "      <td>0.0</td>\n",
       "      <td>0.0</td>\n",
       "      <td>...</td>\n",
       "      <td>0.0</td>\n",
       "      <td>0.0</td>\n",
       "      <td>3.0</td>\n",
       "      <td>4.0</td>\n",
       "      <td>0.0</td>\n",
       "      <td>0.0</td>\n",
       "      <td>0.0</td>\n",
       "      <td>0.0</td>\n",
       "      <td>0.0</td>\n",
       "      <td>0.0</td>\n",
       "    </tr>\n",
       "    <tr>\n",
       "      <th>5</th>\n",
       "      <td>5.0</td>\n",
       "      <td>0.0</td>\n",
       "      <td>0.0</td>\n",
       "      <td>0.0</td>\n",
       "      <td>4.0</td>\n",
       "      <td>0.0</td>\n",
       "      <td>0.0</td>\n",
       "      <td>0.0</td>\n",
       "      <td>0.0</td>\n",
       "      <td>0.0</td>\n",
       "      <td>...</td>\n",
       "      <td>4.0</td>\n",
       "      <td>0.0</td>\n",
       "      <td>0.0</td>\n",
       "      <td>0.0</td>\n",
       "      <td>0.0</td>\n",
       "      <td>0.0</td>\n",
       "      <td>0.0</td>\n",
       "      <td>0.0</td>\n",
       "      <td>0.0</td>\n",
       "      <td>0.0</td>\n",
       "    </tr>\n",
       "    <tr>\n",
       "      <th>6</th>\n",
       "      <td>3.0</td>\n",
       "      <td>0.0</td>\n",
       "      <td>0.0</td>\n",
       "      <td>4.0</td>\n",
       "      <td>4.0</td>\n",
       "      <td>4.0</td>\n",
       "      <td>0.0</td>\n",
       "      <td>5.0</td>\n",
       "      <td>0.0</td>\n",
       "      <td>4.0</td>\n",
       "      <td>...</td>\n",
       "      <td>4.0</td>\n",
       "      <td>0.0</td>\n",
       "      <td>4.0</td>\n",
       "      <td>4.0</td>\n",
       "      <td>0.0</td>\n",
       "      <td>0.0</td>\n",
       "      <td>0.0</td>\n",
       "      <td>0.0</td>\n",
       "      <td>0.0</td>\n",
       "      <td>0.0</td>\n",
       "    </tr>\n",
       "    <tr>\n",
       "      <th>...</th>\n",
       "      <td>...</td>\n",
       "      <td>...</td>\n",
       "      <td>...</td>\n",
       "      <td>...</td>\n",
       "      <td>...</td>\n",
       "      <td>...</td>\n",
       "      <td>...</td>\n",
       "      <td>...</td>\n",
       "      <td>...</td>\n",
       "      <td>...</td>\n",
       "      <td>...</td>\n",
       "      <td>...</td>\n",
       "      <td>...</td>\n",
       "      <td>...</td>\n",
       "      <td>...</td>\n",
       "      <td>...</td>\n",
       "      <td>...</td>\n",
       "      <td>...</td>\n",
       "      <td>...</td>\n",
       "      <td>...</td>\n",
       "      <td>...</td>\n",
       "    </tr>\n",
       "    <tr>\n",
       "      <th>65529</th>\n",
       "      <td>4.0</td>\n",
       "      <td>0.0</td>\n",
       "      <td>0.0</td>\n",
       "      <td>0.0</td>\n",
       "      <td>1.0</td>\n",
       "      <td>0.0</td>\n",
       "      <td>0.0</td>\n",
       "      <td>4.0</td>\n",
       "      <td>0.0</td>\n",
       "      <td>3.0</td>\n",
       "      <td>...</td>\n",
       "      <td>0.0</td>\n",
       "      <td>0.0</td>\n",
       "      <td>0.0</td>\n",
       "      <td>4.0</td>\n",
       "      <td>0.0</td>\n",
       "      <td>0.0</td>\n",
       "      <td>0.0</td>\n",
       "      <td>0.0</td>\n",
       "      <td>0.0</td>\n",
       "      <td>0.0</td>\n",
       "    </tr>\n",
       "    <tr>\n",
       "      <th>65530</th>\n",
       "      <td>4.0</td>\n",
       "      <td>0.0</td>\n",
       "      <td>0.0</td>\n",
       "      <td>5.0</td>\n",
       "      <td>0.0</td>\n",
       "      <td>0.0</td>\n",
       "      <td>0.0</td>\n",
       "      <td>0.0</td>\n",
       "      <td>0.0</td>\n",
       "      <td>0.0</td>\n",
       "      <td>...</td>\n",
       "      <td>0.0</td>\n",
       "      <td>0.0</td>\n",
       "      <td>0.0</td>\n",
       "      <td>3.0</td>\n",
       "      <td>0.0</td>\n",
       "      <td>0.0</td>\n",
       "      <td>0.0</td>\n",
       "      <td>4.0</td>\n",
       "      <td>0.0</td>\n",
       "      <td>0.0</td>\n",
       "    </tr>\n",
       "    <tr>\n",
       "      <th>65532</th>\n",
       "      <td>4.0</td>\n",
       "      <td>0.0</td>\n",
       "      <td>4.0</td>\n",
       "      <td>0.0</td>\n",
       "      <td>0.0</td>\n",
       "      <td>0.0</td>\n",
       "      <td>0.0</td>\n",
       "      <td>0.0</td>\n",
       "      <td>0.0</td>\n",
       "      <td>2.0</td>\n",
       "      <td>...</td>\n",
       "      <td>0.0</td>\n",
       "      <td>0.0</td>\n",
       "      <td>0.0</td>\n",
       "      <td>0.0</td>\n",
       "      <td>0.0</td>\n",
       "      <td>0.0</td>\n",
       "      <td>0.0</td>\n",
       "      <td>5.0</td>\n",
       "      <td>0.0</td>\n",
       "      <td>0.0</td>\n",
       "    </tr>\n",
       "    <tr>\n",
       "      <th>65533</th>\n",
       "      <td>4.0</td>\n",
       "      <td>0.0</td>\n",
       "      <td>0.0</td>\n",
       "      <td>0.0</td>\n",
       "      <td>0.0</td>\n",
       "      <td>0.0</td>\n",
       "      <td>0.0</td>\n",
       "      <td>0.0</td>\n",
       "      <td>0.0</td>\n",
       "      <td>0.0</td>\n",
       "      <td>...</td>\n",
       "      <td>0.0</td>\n",
       "      <td>0.0</td>\n",
       "      <td>0.0</td>\n",
       "      <td>2.0</td>\n",
       "      <td>0.0</td>\n",
       "      <td>0.0</td>\n",
       "      <td>0.0</td>\n",
       "      <td>5.0</td>\n",
       "      <td>0.0</td>\n",
       "      <td>0.0</td>\n",
       "    </tr>\n",
       "    <tr>\n",
       "      <th>65535</th>\n",
       "      <td>5.0</td>\n",
       "      <td>0.0</td>\n",
       "      <td>0.0</td>\n",
       "      <td>0.0</td>\n",
       "      <td>0.0</td>\n",
       "      <td>0.0</td>\n",
       "      <td>0.0</td>\n",
       "      <td>0.0</td>\n",
       "      <td>0.0</td>\n",
       "      <td>0.0</td>\n",
       "      <td>...</td>\n",
       "      <td>0.0</td>\n",
       "      <td>0.0</td>\n",
       "      <td>0.0</td>\n",
       "      <td>4.0</td>\n",
       "      <td>0.0</td>\n",
       "      <td>0.0</td>\n",
       "      <td>0.0</td>\n",
       "      <td>0.0</td>\n",
       "      <td>3.0</td>\n",
       "      <td>0.0</td>\n",
       "    </tr>\n",
       "  </tbody>\n",
       "</table>\n",
       "<p>59046 rows × 450 columns</p>\n",
       "</div>"
      ],
      "text/plain": [
       "          30   58   77  143  252  257  258  331  341  362  ...  17343  17383  \\\n",
       "Cust_Id                                                    ...                 \n",
       "0        3.0  0.0  0.0  0.0  0.0  0.0  0.0  4.0  0.0  0.0  ...    0.0    0.0   \n",
       "3        3.0  0.0  0.0  3.0  0.0  5.0  0.0  3.0  0.0  0.0  ...    0.0    0.0   \n",
       "4        4.0  0.0  0.0  4.0  3.0  0.0  0.0  3.0  0.0  0.0  ...    0.0    0.0   \n",
       "5        5.0  0.0  0.0  0.0  4.0  0.0  0.0  0.0  0.0  0.0  ...    4.0    0.0   \n",
       "6        3.0  0.0  0.0  4.0  4.0  4.0  0.0  5.0  0.0  4.0  ...    4.0    0.0   \n",
       "...      ...  ...  ...  ...  ...  ...  ...  ...  ...  ...  ...    ...    ...   \n",
       "65529    4.0  0.0  0.0  0.0  1.0  0.0  0.0  4.0  0.0  3.0  ...    0.0    0.0   \n",
       "65530    4.0  0.0  0.0  5.0  0.0  0.0  0.0  0.0  0.0  0.0  ...    0.0    0.0   \n",
       "65532    4.0  0.0  4.0  0.0  0.0  0.0  0.0  0.0  0.0  2.0  ...    0.0    0.0   \n",
       "65533    4.0  0.0  0.0  0.0  0.0  0.0  0.0  0.0  0.0  0.0  ...    0.0    0.0   \n",
       "65535    5.0  0.0  0.0  0.0  0.0  0.0  0.0  0.0  0.0  0.0  ...    0.0    0.0   \n",
       "\n",
       "         17424  17479  17515  17563  17611  17621  17697  17725  \n",
       "Cust_Id                                                          \n",
       "0          0.0    4.0    0.0    0.0    0.0    0.0    0.0    0.0  \n",
       "3          0.0    3.0    0.0    2.0    0.0    0.0    0.0    0.0  \n",
       "4          3.0    4.0    0.0    0.0    0.0    0.0    0.0    0.0  \n",
       "5          0.0    0.0    0.0    0.0    0.0    0.0    0.0    0.0  \n",
       "6          4.0    4.0    0.0    0.0    0.0    0.0    0.0    0.0  \n",
       "...        ...    ...    ...    ...    ...    ...    ...    ...  \n",
       "65529      0.0    4.0    0.0    0.0    0.0    0.0    0.0    0.0  \n",
       "65530      0.0    3.0    0.0    0.0    0.0    4.0    0.0    0.0  \n",
       "65532      0.0    0.0    0.0    0.0    0.0    5.0    0.0    0.0  \n",
       "65533      0.0    2.0    0.0    0.0    0.0    5.0    0.0    0.0  \n",
       "65535      0.0    4.0    0.0    0.0    0.0    0.0    3.0    0.0  \n",
       "\n",
       "[59046 rows x 450 columns]"
      ]
     },
     "execution_count": 4,
     "metadata": {},
     "output_type": "execute_result"
    }
   ],
   "source": [
    "df"
   ]
  },
  {
   "cell_type": "markdown",
   "id": "dd618867-261e-4d73-aa08-8b2c7ef770be",
   "metadata": {},
   "source": [
    "### Need to research best way to handle very sparse matrices\n",
    "- https://machinelearningmastery.com/sparse-matrices-for-machine-learning/\n",
    "    - \"It is computationally expensive to represent and work with sparse matrices as though they are dense, and much improvement in performance can be achieved by using representations and operations that specifically handle the matrix sparsity.\"\n",
    "- There are alternative data structures that would be more memory efficient for these type of matrices\n",
    "- https://pandas.pydata.org/docs/user_guide/sparse.html"
   ]
  },
  {
   "cell_type": "markdown",
   "id": "d8594eb6-447d-496b-a7f6-d25619d21957",
   "metadata": {},
   "source": [
    "### Sparse Data Structure for efficiency"
   ]
  },
  {
   "cell_type": "code",
   "execution_count": 5,
   "id": "e3a8907a-b26c-4982-bd39-c71a84b4f75f",
   "metadata": {},
   "outputs": [],
   "source": [
    "sparse_data = scipy.sparse.csr_matrix(normalize(df.values))"
   ]
  },
  {
   "cell_type": "code",
   "execution_count": 6,
   "id": "3af6aa83-518b-4a9d-9e4a-77f61feaa1d9",
   "metadata": {},
   "outputs": [
    {
     "name": "stdout",
     "output_type": "stream",
     "text": [
      "[[0.0835593  0.         0.         ... 0.         0.         0.        ]\n",
      " [0.07265392 0.         0.         ... 0.         0.         0.        ]\n",
      " [0.09441212 0.         0.         ... 0.         0.         0.        ]\n",
      " ...\n",
      " [0.10069467 0.         0.10069467 ... 0.12586834 0.         0.        ]\n",
      " [0.13137724 0.         0.         ... 0.16422155 0.         0.        ]\n",
      " [0.14210511 0.         0.         ... 0.         0.08526306 0.        ]]\n"
     ]
    }
   ],
   "source": [
    "print(sparse_data.toarray())"
   ]
  },
  {
   "cell_type": "code",
   "execution_count": 7,
   "id": "2ab9598f-0744-4b45-aa24-9c3bd9ddd421",
   "metadata": {},
   "outputs": [
    {
     "data": {
      "text/plain": [
       "array([[0.58820381]])"
      ]
     },
     "execution_count": 7,
     "metadata": {},
     "output_type": "execute_result"
    }
   ],
   "source": [
    "cosine_similarity(sparse_data[0], sparse_data[1])"
   ]
  },
  {
   "cell_type": "code",
   "execution_count": 8,
   "id": "598ea1e1-1441-45c4-aac4-1b84edcb7ed8",
   "metadata": {},
   "outputs": [],
   "source": [
    "#!pip install sortedcollections"
   ]
  },
  {
   "cell_type": "code",
   "execution_count": 9,
   "id": "8e092ba7-65c6-497e-a49c-ed7537e9f78c",
   "metadata": {},
   "outputs": [],
   "source": [
    "#dictionary for id -> index pairs\n",
    "id_index_dic = {}\n",
    "for i, j in enumerate(df.index):\n",
    "    id_index_dic[j] = i"
   ]
  },
  {
   "cell_type": "code",
   "execution_count": 10,
   "id": "6ad2f399-32c2-47bd-b15a-78a7e5697087",
   "metadata": {},
   "outputs": [
    {
     "data": {
      "text/plain": [
       "3"
      ]
     },
     "execution_count": 10,
     "metadata": {},
     "output_type": "execute_result"
    }
   ],
   "source": [
    "id_index_dic[5]"
   ]
  },
  {
   "cell_type": "code",
   "execution_count": 49,
   "id": "0b19a3cf-01c8-408a-b099-1553eb0960d9",
   "metadata": {
    "tags": []
   },
   "outputs": [],
   "source": [
    "from sortedcontainers import SortedList\n",
    "'''\n",
    "    Get top n similar users based on a given user\n",
    "    \n",
    "    params:\n",
    "        user: user index of interest\n",
    "        data: user ratings matrix\n",
    "        n: number of similar users to return \n",
    "        \n",
    "    returns:\n",
    "        top_scores: 2d list of score and id \n",
    "'''\n",
    "def get_similar_users(user: int, data, n: int):\n",
    "    top_scores = SortedList(key = lambda x: -x[0])\n",
    "    for u in range(len(data.toarray())):\n",
    "        score = cosine_similarity(data[user], data[u])\n",
    "        top_scores.add([score, u])\n",
    "    return top_scores[:n+1] #n+1 since current index would be included\n",
    "    "
   ]
  },
  {
   "cell_type": "code",
   "execution_count": 12,
   "id": "46e33952-2b3b-47fe-950a-2f9ab9541123",
   "metadata": {},
   "outputs": [
    {
     "name": "stdout",
     "output_type": "stream",
     "text": [
      "CPU times: user 40 s, sys: 116 ms, total: 40.1 s\n",
      "Wall time: 40.1 s\n"
     ]
    }
   ],
   "source": [
    "%%time\n",
    "# get similar users of user 0 \n",
    "results = get_similar_users(0, sparse_data, 5)"
   ]
  },
  {
   "cell_type": "markdown",
   "id": "205a2992-a61b-4446-80c5-1523031d2b0f",
   "metadata": {},
   "source": [
    "40 second runtime for a single user :("
   ]
  },
  {
   "cell_type": "code",
   "execution_count": 13,
   "id": "9546d501-6c88-4336-96de-b567e9983b6b",
   "metadata": {},
   "outputs": [
    {
     "data": {
      "text/plain": [
       "[[array([[1.]]), 0],\n",
       " [array([[0.72543739]]), 38299],\n",
       " [array([[0.71573383]]), 51704],\n",
       " [array([[0.71272392]]), 49760],\n",
       " [array([[0.70688714]]), 1303],\n",
       " [array([[0.69327405]]), 5284]]"
      ]
     },
     "execution_count": 13,
     "metadata": {},
     "output_type": "execute_result"
    }
   ],
   "source": [
    "results"
   ]
  },
  {
   "cell_type": "markdown",
   "id": "a1bb6488-f40a-48e6-84b6-812af1b9e421",
   "metadata": {},
   "source": [
    "I think creating a local DB and storing this stuff would be better"
   ]
  },
  {
   "cell_type": "code",
   "execution_count": 47,
   "id": "45515850-ede8-45c1-b6d1-e7e66061cd08",
   "metadata": {},
   "outputs": [],
   "source": [
    "def proportion_similar(u1, u2):\n",
    "    user1 = set(df.loc[u1][df.loc[u1] > 0].index)\n",
    "    user2 = set(df.loc[u2][df.loc[u2] > 0].index) \n",
    "    return (len(user1.intersection(user2)) / len(user1)), (len(user2))"
   ]
  },
  {
   "cell_type": "code",
   "execution_count": 48,
   "id": "cd2a333f-e092-452c-b7cd-ca3e37cbbabb",
   "metadata": {},
   "outputs": [
    {
     "name": "stdout",
     "output_type": "stream",
     "text": [
      "1.0 0 98\n",
      "0.336734693877551 38299 51\n",
      "0.7448979591836735 51704 153\n",
      "0.35714285714285715 49760 63\n",
      "0.6428571428571429 1303 93\n",
      "0.4897959183673469 5284 82\n"
     ]
    }
   ],
   "source": [
    "for i in results:\n",
    "    r, l = proportion_similar(results[0][1], i[1])\n",
    "    print(r, i[1], l)"
   ]
  },
  {
   "cell_type": "markdown",
   "id": "19f4b213-bcb4-4d88-a367-6513229336df",
   "metadata": {},
   "source": [
    "### Get movie intersection of all users"
   ]
  },
  {
   "cell_type": "code",
   "execution_count": 54,
   "id": "32773467-0402-4844-b99b-8fabe0f7f050",
   "metadata": {},
   "outputs": [
    {
     "data": {
      "text/plain": [
       "[array([[1.]]), 0]"
      ]
     },
     "execution_count": 54,
     "metadata": {},
     "output_type": "execute_result"
    }
   ],
   "source": [
    "results.pop(0)"
   ]
  },
  {
   "cell_type": "code",
   "execution_count": 65,
   "id": "a163bd1e-d3ed-4e55-8a06-480a971ff9b8",
   "metadata": {},
   "outputs": [
    {
     "data": {
      "text/plain": [
       "[[array([[0.72543739]]), 38299],\n",
       " [array([[0.71573383]]), 51704],\n",
       " [array([[0.71272392]]), 49760],\n",
       " [array([[0.70688714]]), 1303],\n",
       " [array([[0.69327405]]), 5284]]"
      ]
     },
     "execution_count": 65,
     "metadata": {},
     "output_type": "execute_result"
    }
   ],
   "source": [
    "results"
   ]
  },
  {
   "cell_type": "code",
   "execution_count": 71,
   "id": "c957a09b-2907-496f-8079-4e9190cd8d0a",
   "metadata": {},
   "outputs": [
    {
     "data": {
      "text/plain": [
       "pandas.core.indexes.base.Index"
      ]
     },
     "execution_count": 71,
     "metadata": {},
     "output_type": "execute_result"
    }
   ],
   "source": [
    "type(df.loc[results[0][1]][df.loc[results[0][1]] > 0].index)"
   ]
  },
  {
   "cell_type": "code",
   "execution_count": null,
   "id": "dbccb96e-4535-4147-bbb1-28accf389143",
   "metadata": {},
   "outputs": [
    {
     "ename": "TypeError",
     "evalue": "unhashable type: 'numpy.ndarray'",
     "output_type": "error",
     "traceback": [
      "\u001b[0;31m---------------------------------------------------------------------------\u001b[0m",
      "\u001b[0;31mTypeError\u001b[0m                                 Traceback (most recent call last)",
      "\u001b[0;32m/tmp/ipykernel_8401/3432050466.py\u001b[0m in \u001b[0;36m<module>\u001b[0;34m\u001b[0m\n\u001b[0;32m----> 1\u001b[0;31m \u001b[0mlist\u001b[0m\u001b[0;34m(\u001b[0m\u001b[0mset\u001b[0m\u001b[0;34m.\u001b[0m\u001b[0mintersection\u001b[0m\u001b[0;34m(\u001b[0m\u001b[0;34m*\u001b[0m\u001b[0mmap\u001b[0m\u001b[0;34m(\u001b[0m\u001b[0mset\u001b[0m\u001b[0;34m,\u001b[0m \u001b[0mresults\u001b[0m\u001b[0;34m[\u001b[0m\u001b[0;34m:\u001b[0m\u001b[0;34m]\u001b[0m\u001b[0;34m[\u001b[0m\u001b[0;36m1\u001b[0m\u001b[0;34m]\u001b[0m\u001b[0;34m)\u001b[0m\u001b[0;34m)\u001b[0m\u001b[0;34m)\u001b[0m\u001b[0;34m\u001b[0m\u001b[0;34m\u001b[0m\u001b[0m\n\u001b[0m",
      "\u001b[0;31mTypeError\u001b[0m: unhashable type: 'numpy.ndarray'"
     ]
    }
   ],
   "source": [
    "list(set.intersection(*map(set, )))"
   ]
  },
  {
   "cell_type": "code",
   "execution_count": 75,
   "id": "315979fe-2235-49d4-8e54-69e44b041fae",
   "metadata": {},
   "outputs": [],
   "source": [
    "def movie_intersection(r, df):\n",
    "    users = []\n",
    "    for i in r:\n",
    "        users.append(set(df.loc[i[1]][df.loc[i[1]] > 0].index))\n",
    "        \n",
    "    result = users[0]\n",
    "    for i in range(1, len(users)):\n",
    "        result = set(result) & set(users[i])\n",
    "                     \n",
    "    return result"
   ]
  },
  {
   "cell_type": "code",
   "execution_count": 82,
   "id": "51bc016a-d6a9-4156-aff2-0a75f0c46ab4",
   "metadata": {},
   "outputs": [],
   "source": [
    "similar_user_movies = movie_intersection(results, df)"
   ]
  },
  {
   "cell_type": "code",
   "execution_count": 83,
   "id": "88914262-1a54-462f-a9b3-d637235315b0",
   "metadata": {},
   "outputs": [],
   "source": [
    "user1_movies = set(df.loc[0][df.loc[0] > 0].index)"
   ]
  },
  {
   "cell_type": "code",
   "execution_count": 84,
   "id": "a9b97bce-557d-4f6a-8d13-4ee41022240b",
   "metadata": {},
   "outputs": [
    {
     "data": {
      "text/plain": [
       "{'16954', '9728'}"
      ]
     },
     "execution_count": 84,
     "metadata": {},
     "output_type": "execute_result"
    }
   ],
   "source": [
    "similar_user_movies - user1_movies"
   ]
  },
  {
   "cell_type": "markdown",
   "id": "35e6f491-ea3e-46d0-bfa5-beae1ca7519e",
   "metadata": {},
   "source": [
    "The above results is the only movies that all of user 0's similar users have seen that they havent"
   ]
  },
  {
   "cell_type": "markdown",
   "id": "a71d46b3-c74c-449b-97c3-5903b5e2417b",
   "metadata": {},
   "source": [
    "This is useful for existing users, but I would like to figure out a way to incorporate this into recommendations based off movies instead of a user"
   ]
  }
 ],
 "metadata": {
  "kernelspec": {
   "display_name": "Python 3 (ipykernel)",
   "language": "python",
   "name": "python3"
  },
  "language_info": {
   "codemirror_mode": {
    "name": "ipython",
    "version": 3
   },
   "file_extension": ".py",
   "mimetype": "text/x-python",
   "name": "python",
   "nbconvert_exporter": "python",
   "pygments_lexer": "ipython3",
   "version": "3.9.7"
  }
 },
 "nbformat": 4,
 "nbformat_minor": 5
}
