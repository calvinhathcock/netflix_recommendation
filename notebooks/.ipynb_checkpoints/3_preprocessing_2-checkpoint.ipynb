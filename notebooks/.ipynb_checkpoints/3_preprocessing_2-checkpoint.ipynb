{
 "cells": [
  {
   "cell_type": "markdown",
   "id": "38f96070-2de9-49ea-acd8-16a9e0427699",
   "metadata": {},
   "source": [
    "### New notebook due to memory limitations\n",
    "- https://towardsdatascience.com/how-to-handle-large-datasets-in-python-with-pandas-and-dask-34f43a897d55\n",
    "- ~~Might just need to implement the data into SQL and then write a proper SQL query~~\n",
    "    - Since joining on smaller dataset, we can do operations in memory. But SQL implementation would be good practice for the future"
   ]
  },
  {
   "cell_type": "code",
   "execution_count": 1,
   "id": "5c6c9b23-1552-4a42-b352-145309a15f05",
   "metadata": {},
   "outputs": [],
   "source": [
    "import pandas as pd\n",
    "import numpy as np\n",
    "import matplotlib.pyplot as plt\n",
    "import seaborn as sns\n",
    "import gc\n",
    "import dask.dataframe as dd"
   ]
  },
  {
   "cell_type": "code",
   "execution_count": 2,
   "id": "49aa1300-c52f-4921-9a72-86ac44a3daba",
   "metadata": {},
   "outputs": [],
   "source": [
    "#reading cleaned untrimmed user data\n",
    "ratings = pd.read_csv(\n",
    "    '../data/ratings.csv', \n",
    "    dtype = 'uint16'\n",
    ")"
   ]
  },
  {
   "cell_type": "code",
   "execution_count": 3,
   "id": "f387f648-187e-462b-b044-e917b9925db4",
   "metadata": {},
   "outputs": [
    {
     "data": {
      "text/html": [
       "<div>\n",
       "<style scoped>\n",
       "    .dataframe tbody tr th:only-of-type {\n",
       "        vertical-align: middle;\n",
       "    }\n",
       "\n",
       "    .dataframe tbody tr th {\n",
       "        vertical-align: top;\n",
       "    }\n",
       "\n",
       "    .dataframe thead th {\n",
       "        text-align: right;\n",
       "    }\n",
       "</style>\n",
       "<table border=\"1\" class=\"dataframe\">\n",
       "  <thead>\n",
       "    <tr style=\"text-align: right;\">\n",
       "      <th></th>\n",
       "      <th>Cust_Id</th>\n",
       "      <th>Rating</th>\n",
       "      <th>Movie_Id</th>\n",
       "    </tr>\n",
       "  </thead>\n",
       "  <tbody>\n",
       "    <tr>\n",
       "      <th>0</th>\n",
       "      <td>47052</td>\n",
       "      <td>3</td>\n",
       "      <td>1</td>\n",
       "    </tr>\n",
       "    <tr>\n",
       "      <th>1</th>\n",
       "      <td>35677</td>\n",
       "      <td>5</td>\n",
       "      <td>1</td>\n",
       "    </tr>\n",
       "    <tr>\n",
       "      <th>2</th>\n",
       "      <td>33045</td>\n",
       "      <td>4</td>\n",
       "      <td>1</td>\n",
       "    </tr>\n",
       "    <tr>\n",
       "      <th>3</th>\n",
       "      <td>30878</td>\n",
       "      <td>4</td>\n",
       "      <td>1</td>\n",
       "    </tr>\n",
       "    <tr>\n",
       "      <th>4</th>\n",
       "      <td>37087</td>\n",
       "      <td>3</td>\n",
       "      <td>1</td>\n",
       "    </tr>\n",
       "    <tr>\n",
       "      <th>...</th>\n",
       "      <td>...</td>\n",
       "      <td>...</td>\n",
       "      <td>...</td>\n",
       "    </tr>\n",
       "    <tr>\n",
       "      <th>100480502</th>\n",
       "      <td>20686</td>\n",
       "      <td>4</td>\n",
       "      <td>17770</td>\n",
       "    </tr>\n",
       "    <tr>\n",
       "      <th>100480503</th>\n",
       "      <td>35844</td>\n",
       "      <td>3</td>\n",
       "      <td>17770</td>\n",
       "    </tr>\n",
       "    <tr>\n",
       "      <th>100480504</th>\n",
       "      <td>37667</td>\n",
       "      <td>1</td>\n",
       "      <td>17770</td>\n",
       "    </tr>\n",
       "    <tr>\n",
       "      <th>100480505</th>\n",
       "      <td>58670</td>\n",
       "      <td>4</td>\n",
       "      <td>17770</td>\n",
       "    </tr>\n",
       "    <tr>\n",
       "      <th>100480506</th>\n",
       "      <td>60369</td>\n",
       "      <td>2</td>\n",
       "      <td>17770</td>\n",
       "    </tr>\n",
       "  </tbody>\n",
       "</table>\n",
       "<p>100480507 rows × 3 columns</p>\n",
       "</div>"
      ],
      "text/plain": [
       "           Cust_Id  Rating  Movie_Id\n",
       "0            47052       3         1\n",
       "1            35677       5         1\n",
       "2            33045       4         1\n",
       "3            30878       4         1\n",
       "4            37087       3         1\n",
       "...            ...     ...       ...\n",
       "100480502    20686       4     17770\n",
       "100480503    35844       3     17770\n",
       "100480504    37667       1     17770\n",
       "100480505    58670       4     17770\n",
       "100480506    60369       2     17770\n",
       "\n",
       "[100480507 rows x 3 columns]"
      ]
     },
     "execution_count": 3,
     "metadata": {},
     "output_type": "execute_result"
    }
   ],
   "source": [
    "ratings"
   ]
  },
  {
   "cell_type": "code",
   "execution_count": 4,
   "id": "00712e2b-0935-46d2-b2bf-b15b5bbea025",
   "metadata": {},
   "outputs": [],
   "source": [
    "def get_counts(ratings):\n",
    "    movie_counts = ratings.Movie_Id.value_counts()\n",
    "    cust_counts = ratings.Cust_Id.value_counts()\n",
    "    ratings_counts = ratings.Rating.value_counts()\n",
    "    return movie_counts, cust_counts, ratings_counts"
   ]
  },
  {
   "cell_type": "code",
   "execution_count": 5,
   "id": "878e88f6-c04b-4830-a159-fc5a28d014be",
   "metadata": {},
   "outputs": [],
   "source": [
    "movie_counts, cust_counts, ratings_counts = get_counts(ratings)"
   ]
  },
  {
   "cell_type": "code",
   "execution_count": 6,
   "id": "a5278371-d688-4eac-a574-819b18a74d89",
   "metadata": {},
   "outputs": [
    {
     "data": {
      "text/plain": [
       "count     17770.000000\n",
       "mean       5654.502364\n",
       "std       16909.673269\n",
       "min           3.000000\n",
       "25%         192.000000\n",
       "50%         561.000000\n",
       "75%        2667.750000\n",
       "max      232944.000000\n",
       "Name: Movie_Id, dtype: float64"
      ]
     },
     "execution_count": 6,
     "metadata": {},
     "output_type": "execute_result"
    }
   ],
   "source": [
    "movie_counts.describe()"
   ]
  },
  {
   "cell_type": "code",
   "execution_count": 7,
   "id": "585e6757-706f-4657-868d-58e15b0e544e",
   "metadata": {},
   "outputs": [
    {
     "data": {
      "text/plain": [
       "count    65513.000000\n",
       "mean      1533.749134\n",
       "std        969.541865\n",
       "min          3.000000\n",
       "25%        835.000000\n",
       "50%       1356.000000\n",
       "75%       2026.000000\n",
       "max      19646.000000\n",
       "Name: Cust_Id, dtype: float64"
      ]
     },
     "execution_count": 7,
     "metadata": {},
     "output_type": "execute_result"
    }
   ],
   "source": [
    "cust_counts.describe()"
   ]
  },
  {
   "cell_type": "code",
   "execution_count": 8,
   "id": "1c6d61be-efdf-4f9c-b4a9-7c439b57abb6",
   "metadata": {},
   "outputs": [
    {
     "data": {
      "text/plain": [
       "count    5.000000e+00\n",
       "mean     2.009610e+07\n",
       "std      1.235618e+07\n",
       "min      4.617990e+06\n",
       "25%      1.013208e+07\n",
       "50%      2.316823e+07\n",
       "75%      2.881125e+07\n",
       "max      3.375096e+07\n",
       "Name: Rating, dtype: float64"
      ]
     },
     "execution_count": 8,
     "metadata": {},
     "output_type": "execute_result"
    }
   ],
   "source": [
    "ratings_counts.describe()"
   ]
  },
  {
   "cell_type": "code",
   "execution_count": 9,
   "id": "dee2a10c-43c4-42f8-ac8c-34cbe5e0a91e",
   "metadata": {},
   "outputs": [
    {
     "data": {
      "text/plain": [
       "<AxesSubplot:xlabel='Rating', ylabel='Count'>"
      ]
     },
     "execution_count": 9,
     "metadata": {},
     "output_type": "execute_result"
    },
    {
     "data": {
      "image/png": "[encoded data removed]",
      "text/plain": [
       "<Figure size 432x288 with 1 Axes>"
      ]
     },
     "metadata": {
      "needs_background": "light"
     },
     "output_type": "display_data"
    }
   ],
   "source": [
    "sns.histplot(ratings.Rating, bins = 5)"
   ]
  },
  {
   "cell_type": "code",
   "execution_count": 10,
   "id": "56ab6cd1-bc33-48c8-8085-d3f854fc8377",
   "metadata": {},
   "outputs": [],
   "source": [
    "#read joined movie dataframe\n",
    "movies = pd.read_csv('../data/movies_joined.csv')\n",
    "movies.drop(columns = ['show_id', 'year'], inplace = True)"
   ]
  },
  {
   "cell_type": "code",
   "execution_count": 12,
   "id": "665ed6d6-db5f-4a89-862c-67c3ece4f5a0",
   "metadata": {},
   "outputs": [],
   "source": [
    "#create movie id set to be used to filter user data\n",
    "ids = set(movies.movie_id)"
   ]
  },
  {
   "cell_type": "code",
   "execution_count": 20,
   "id": "3765af4d-1247-4b62-84e1-8a2237354f0d",
   "metadata": {},
   "outputs": [
    {
     "data": {
      "text/plain": [
       "474"
      ]
     },
     "execution_count": 20,
     "metadata": {},
     "output_type": "execute_result"
    }
   ],
   "source": [
    "len(ids)"
   ]
  },
  {
   "cell_type": "code",
   "execution_count": 14,
   "id": "769b29cc-d788-456c-a755-fbe476ae7738",
   "metadata": {},
   "outputs": [],
   "source": [
    "#filter movie IDs\n",
    "ratings = ratings[ratings['Movie_Id'].isin(ids)]"
   ]
  },
  {
   "cell_type": "code",
   "execution_count": 15,
   "id": "63f4d6bc-7fbc-490c-8c19-5ddadbfe6411",
   "metadata": {},
   "outputs": [
    {
     "data": {
      "text/html": [
       "<div>\n",
       "<style scoped>\n",
       "    .dataframe tbody tr th:only-of-type {\n",
       "        vertical-align: middle;\n",
       "    }\n",
       "\n",
       "    .dataframe tbody tr th {\n",
       "        vertical-align: top;\n",
       "    }\n",
       "\n",
       "    .dataframe thead th {\n",
       "        text-align: right;\n",
       "    }\n",
       "</style>\n",
       "<table border=\"1\" class=\"dataframe\">\n",
       "  <thead>\n",
       "    <tr style=\"text-align: right;\">\n",
       "      <th></th>\n",
       "      <th>Cust_Id</th>\n",
       "      <th>Rating</th>\n",
       "      <th>Movie_Id</th>\n",
       "    </tr>\n",
       "  </thead>\n",
       "  <tbody>\n",
       "    <tr>\n",
       "      <th>92798</th>\n",
       "      <td>10648</td>\n",
       "      <td>5</td>\n",
       "      <td>30</td>\n",
       "    </tr>\n",
       "    <tr>\n",
       "      <th>92799</th>\n",
       "      <td>48338</td>\n",
       "      <td>5</td>\n",
       "      <td>30</td>\n",
       "    </tr>\n",
       "    <tr>\n",
       "      <th>92800</th>\n",
       "      <td>48848</td>\n",
       "      <td>3</td>\n",
       "      <td>30</td>\n",
       "    </tr>\n",
       "    <tr>\n",
       "      <th>92801</th>\n",
       "      <td>24821</td>\n",
       "      <td>4</td>\n",
       "      <td>30</td>\n",
       "    </tr>\n",
       "    <tr>\n",
       "      <th>92802</th>\n",
       "      <td>6977</td>\n",
       "      <td>4</td>\n",
       "      <td>30</td>\n",
       "    </tr>\n",
       "    <tr>\n",
       "      <th>...</th>\n",
       "      <td>...</td>\n",
       "      <td>...</td>\n",
       "      <td>...</td>\n",
       "    </tr>\n",
       "    <tr>\n",
       "      <th>100325303</th>\n",
       "      <td>36378</td>\n",
       "      <td>4</td>\n",
       "      <td>17725</td>\n",
       "    </tr>\n",
       "    <tr>\n",
       "      <th>100325304</th>\n",
       "      <td>12379</td>\n",
       "      <td>1</td>\n",
       "      <td>17725</td>\n",
       "    </tr>\n",
       "    <tr>\n",
       "      <th>100325305</th>\n",
       "      <td>17725</td>\n",
       "      <td>2</td>\n",
       "      <td>17725</td>\n",
       "    </tr>\n",
       "    <tr>\n",
       "      <th>100325306</th>\n",
       "      <td>47455</td>\n",
       "      <td>1</td>\n",
       "      <td>17725</td>\n",
       "    </tr>\n",
       "    <tr>\n",
       "      <th>100325307</th>\n",
       "      <td>22362</td>\n",
       "      <td>4</td>\n",
       "      <td>17725</td>\n",
       "    </tr>\n",
       "  </tbody>\n",
       "</table>\n",
       "<p>13120567 rows × 3 columns</p>\n",
       "</div>"
      ],
      "text/plain": [
       "           Cust_Id  Rating  Movie_Id\n",
       "92798        10648       5        30\n",
       "92799        48338       5        30\n",
       "92800        48848       3        30\n",
       "92801        24821       4        30\n",
       "92802         6977       4        30\n",
       "...            ...     ...       ...\n",
       "100325303    36378       4     17725\n",
       "100325304    12379       1     17725\n",
       "100325305    17725       2     17725\n",
       "100325306    47455       1     17725\n",
       "100325307    22362       4     17725\n",
       "\n",
       "[13120567 rows x 3 columns]"
      ]
     },
     "execution_count": 15,
     "metadata": {},
     "output_type": "execute_result"
    }
   ],
   "source": [
    "ratings"
   ]
  },
  {
   "cell_type": "code",
   "execution_count": 16,
   "id": "6d068f39-6d74-4f7d-95eb-97ffee730a8f",
   "metadata": {},
   "outputs": [],
   "source": [
    "movie_counts, cust_counts, ratings_counts = get_counts(ratings)"
   ]
  },
  {
   "cell_type": "markdown",
   "id": "8f50390d-1f4f-4fe1-a494-f1d1b2c1ae30",
   "metadata": {},
   "source": [
    "Still 13,120,567 ratings..."
   ]
  },
  {
   "cell_type": "code",
   "execution_count": 17,
   "id": "6c3f431c-8edc-47e2-86d4-73bda7112841",
   "metadata": {},
   "outputs": [
    {
     "data": {
      "text/plain": [
       "count       474.000000\n",
       "mean      27680.521097\n",
       "std       36657.927453\n",
       "min          27.000000\n",
       "25%        1551.750000\n",
       "50%       11154.500000\n",
       "75%       38561.500000\n",
       "max      160326.000000\n",
       "Name: Movie_Id, dtype: float64"
      ]
     },
     "execution_count": 17,
     "metadata": {},
     "output_type": "execute_result"
    }
   ],
   "source": [
    "movie_counts.describe()"
   ]
  },
  {
   "cell_type": "code",
   "execution_count": 18,
   "id": "4591618b-c15f-46d1-9259-fc8a95855ff9",
   "metadata": {},
   "outputs": [
    {
     "data": {
      "text/plain": [
       "count    65505.000000\n",
       "mean       200.298710\n",
       "std        113.864333\n",
       "min          1.000000\n",
       "25%        115.000000\n",
       "50%        184.000000\n",
       "75%        266.000000\n",
       "max        986.000000\n",
       "Name: Cust_Id, dtype: float64"
      ]
     },
     "execution_count": 18,
     "metadata": {},
     "output_type": "execute_result"
    }
   ],
   "source": [
    "cust_counts.describe()"
   ]
  },
  {
   "cell_type": "markdown",
   "id": "1fa16940-e845-4c6a-bb51-6295a1a1bc65",
   "metadata": {},
   "source": [
    "It seems like the number of ratings customers have given is a *lot*. A mean of 200 ratings each. I guess I underestimate people"
   ]
  },
  {
   "cell_type": "code",
   "execution_count": 21,
   "id": "9bbf9cc5-0105-4a1b-999a-a11d1ba528ed",
   "metadata": {},
   "outputs": [
    {
     "data": {
      "text/plain": [
       "13128    986\n",
       "25610    929\n",
       "38291    903\n",
       "27195    883\n",
       "29905    879\n",
       "        ... \n",
       "6045       1\n",
       "21608      1\n",
       "34351      1\n",
       "52725      1\n",
       "32748      1\n",
       "Name: Cust_Id, Length: 65505, dtype: int64"
      ]
     },
     "execution_count": 21,
     "metadata": {},
     "output_type": "execute_result"
    }
   ],
   "source": [
    "cust_counts"
   ]
  },
  {
   "cell_type": "markdown",
   "id": "563d0f22-c019-4fc1-9dd8-e5e730d8aa81",
   "metadata": {},
   "source": [
    "Still, there is clearly some duplication problems, many users having more ratings then there are movies in our subset "
   ]
  },
  {
   "cell_type": "code",
   "execution_count": 41,
   "id": "1050d591-d81a-4dd6-ab4b-c7daa82066c4",
   "metadata": {},
   "outputs": [
    {
     "data": {
      "text/html": [
       "<div>\n",
       "<style scoped>\n",
       "    .dataframe tbody tr th:only-of-type {\n",
       "        vertical-align: middle;\n",
       "    }\n",
       "\n",
       "    .dataframe tbody tr th {\n",
       "        vertical-align: top;\n",
       "    }\n",
       "\n",
       "    .dataframe thead th {\n",
       "        text-align: right;\n",
       "    }\n",
       "</style>\n",
       "<table border=\"1\" class=\"dataframe\">\n",
       "  <thead>\n",
       "    <tr style=\"text-align: right;\">\n",
       "      <th></th>\n",
       "      <th>Cust_Id</th>\n",
       "      <th>Rating</th>\n",
       "      <th>Movie_Id</th>\n",
       "    </tr>\n",
       "  </thead>\n",
       "  <tbody>\n",
       "    <tr>\n",
       "      <th>111434</th>\n",
       "      <td>13128</td>\n",
       "      <td>3</td>\n",
       "      <td>30</td>\n",
       "    </tr>\n",
       "    <tr>\n",
       "      <th>148145</th>\n",
       "      <td>13128</td>\n",
       "      <td>3</td>\n",
       "      <td>30</td>\n",
       "    </tr>\n",
       "    <tr>\n",
       "      <th>160668</th>\n",
       "      <td>13128</td>\n",
       "      <td>3</td>\n",
       "      <td>30</td>\n",
       "    </tr>\n",
       "    <tr>\n",
       "      <th>168939</th>\n",
       "      <td>13128</td>\n",
       "      <td>4</td>\n",
       "      <td>30</td>\n",
       "    </tr>\n",
       "    <tr>\n",
       "      <th>178713</th>\n",
       "      <td>13128</td>\n",
       "      <td>4</td>\n",
       "      <td>30</td>\n",
       "    </tr>\n",
       "    <tr>\n",
       "      <th>...</th>\n",
       "      <td>...</td>\n",
       "      <td>...</td>\n",
       "      <td>...</td>\n",
       "    </tr>\n",
       "    <tr>\n",
       "      <th>99632706</th>\n",
       "      <td>13128</td>\n",
       "      <td>1</td>\n",
       "      <td>17563</td>\n",
       "    </tr>\n",
       "    <tr>\n",
       "      <th>99800509</th>\n",
       "      <td>13128</td>\n",
       "      <td>5</td>\n",
       "      <td>17621</td>\n",
       "    </tr>\n",
       "    <tr>\n",
       "      <th>99828715</th>\n",
       "      <td>13128</td>\n",
       "      <td>3</td>\n",
       "      <td>17621</td>\n",
       "    </tr>\n",
       "    <tr>\n",
       "      <th>99832321</th>\n",
       "      <td>13128</td>\n",
       "      <td>3</td>\n",
       "      <td>17621</td>\n",
       "    </tr>\n",
       "    <tr>\n",
       "      <th>100323774</th>\n",
       "      <td>13128</td>\n",
       "      <td>4</td>\n",
       "      <td>17725</td>\n",
       "    </tr>\n",
       "  </tbody>\n",
       "</table>\n",
       "<p>986 rows × 3 columns</p>\n",
       "</div>"
      ],
      "text/plain": [
       "           Cust_Id  Rating  Movie_Id\n",
       "111434       13128       3        30\n",
       "148145       13128       3        30\n",
       "160668       13128       3        30\n",
       "168939       13128       4        30\n",
       "178713       13128       4        30\n",
       "...            ...     ...       ...\n",
       "99632706     13128       1     17563\n",
       "99800509     13128       5     17621\n",
       "99828715     13128       3     17621\n",
       "99832321     13128       3     17621\n",
       "100323774    13128       4     17725\n",
       "\n",
       "[986 rows x 3 columns]"
      ]
     },
     "execution_count": 41,
     "metadata": {},
     "output_type": "execute_result"
    }
   ],
   "source": [
    "#view customer with the most given ratings\n",
    "ratings[ratings['Cust_Id'] == 13128]"
   ]
  },
  {
   "cell_type": "code",
   "execution_count": 56,
   "id": "609cc14a-8b51-44eb-afb9-c70c5aff40c7",
   "metadata": {},
   "outputs": [
    {
     "data": {
      "text/plain": [
       "12918    10\n",
       "6971      9\n",
       "1962      9\n",
       "9756      9\n",
       "3320      9\n",
       "         ..\n",
       "8830      1\n",
       "1558      1\n",
       "1770      1\n",
       "8987      1\n",
       "17725     1\n",
       "Name: Movie_Id, Length: 285, dtype: int64"
      ]
     },
     "execution_count": 56,
     "metadata": {},
     "output_type": "execute_result"
    }
   ],
   "source": [
    "ratings[ratings['Cust_Id'] == 13128].Movie_Id.value_counts()"
   ]
  },
  {
   "cell_type": "markdown",
   "id": "78a27b73-cdfe-4177-b994-4356ad955217",
   "metadata": {},
   "source": [
    "Customers shouldnt have duplicate ratings.."
   ]
  },
  {
   "cell_type": "markdown",
   "id": "243feab0-9668-4002-a2fd-d962bfcdaf40",
   "metadata": {},
   "source": [
    "Need to remove all duplicate (customer - movie) pairs"
   ]
  },
  {
   "cell_type": "code",
   "execution_count": 40,
   "id": "5a8ff14c-380e-4bc4-98a9-b2a3898fc853",
   "metadata": {},
   "outputs": [
    {
     "data": {
      "text/html": [
       "<div>\n",
       "<style scoped>\n",
       "    .dataframe tbody tr th:only-of-type {\n",
       "        vertical-align: middle;\n",
       "    }\n",
       "\n",
       "    .dataframe tbody tr th {\n",
       "        vertical-align: top;\n",
       "    }\n",
       "\n",
       "    .dataframe thead th {\n",
       "        text-align: right;\n",
       "    }\n",
       "</style>\n",
       "<table border=\"1\" class=\"dataframe\">\n",
       "  <thead>\n",
       "    <tr style=\"text-align: right;\">\n",
       "      <th></th>\n",
       "      <th>Cust_Id</th>\n",
       "      <th>Rating</th>\n",
       "      <th>Movie_Id</th>\n",
       "    </tr>\n",
       "  </thead>\n",
       "  <tbody>\n",
       "    <tr>\n",
       "      <th>92798</th>\n",
       "      <td>10648</td>\n",
       "      <td>5</td>\n",
       "      <td>30</td>\n",
       "    </tr>\n",
       "    <tr>\n",
       "      <th>92799</th>\n",
       "      <td>48338</td>\n",
       "      <td>5</td>\n",
       "      <td>30</td>\n",
       "    </tr>\n",
       "    <tr>\n",
       "      <th>92800</th>\n",
       "      <td>48848</td>\n",
       "      <td>3</td>\n",
       "      <td>30</td>\n",
       "    </tr>\n",
       "    <tr>\n",
       "      <th>92801</th>\n",
       "      <td>24821</td>\n",
       "      <td>4</td>\n",
       "      <td>30</td>\n",
       "    </tr>\n",
       "    <tr>\n",
       "      <th>92802</th>\n",
       "      <td>6977</td>\n",
       "      <td>4</td>\n",
       "      <td>30</td>\n",
       "    </tr>\n",
       "    <tr>\n",
       "      <th>...</th>\n",
       "      <td>...</td>\n",
       "      <td>...</td>\n",
       "      <td>...</td>\n",
       "    </tr>\n",
       "    <tr>\n",
       "      <th>100325303</th>\n",
       "      <td>36378</td>\n",
       "      <td>4</td>\n",
       "      <td>17725</td>\n",
       "    </tr>\n",
       "    <tr>\n",
       "      <th>100325304</th>\n",
       "      <td>12379</td>\n",
       "      <td>1</td>\n",
       "      <td>17725</td>\n",
       "    </tr>\n",
       "    <tr>\n",
       "      <th>100325305</th>\n",
       "      <td>17725</td>\n",
       "      <td>2</td>\n",
       "      <td>17725</td>\n",
       "    </tr>\n",
       "    <tr>\n",
       "      <th>100325306</th>\n",
       "      <td>47455</td>\n",
       "      <td>1</td>\n",
       "      <td>17725</td>\n",
       "    </tr>\n",
       "    <tr>\n",
       "      <th>100325307</th>\n",
       "      <td>22362</td>\n",
       "      <td>4</td>\n",
       "      <td>17725</td>\n",
       "    </tr>\n",
       "  </tbody>\n",
       "</table>\n",
       "<p>13120567 rows × 3 columns</p>\n",
       "</div>"
      ],
      "text/plain": [
       "           Cust_Id  Rating  Movie_Id\n",
       "92798        10648       5        30\n",
       "92799        48338       5        30\n",
       "92800        48848       3        30\n",
       "92801        24821       4        30\n",
       "92802         6977       4        30\n",
       "...            ...     ...       ...\n",
       "100325303    36378       4     17725\n",
       "100325304    12379       1     17725\n",
       "100325305    17725       2     17725\n",
       "100325306    47455       1     17725\n",
       "100325307    22362       4     17725\n",
       "\n",
       "[13120567 rows x 3 columns]"
      ]
     },
     "execution_count": 40,
     "metadata": {},
     "output_type": "execute_result"
    }
   ],
   "source": [
    "ratings"
   ]
  },
  {
   "cell_type": "code",
   "execution_count": 44,
   "id": "386175f9-eec1-4e0d-a47e-d7bab9f777df",
   "metadata": {},
   "outputs": [
    {
     "data": {
      "text/plain": [
       "(13120567, 3)"
      ]
     },
     "execution_count": 44,
     "metadata": {},
     "output_type": "execute_result"
    }
   ],
   "source": [
    "ratings.shape"
   ]
  },
  {
   "cell_type": "code",
   "execution_count": 45,
   "id": "a1a2de49-770d-40d0-88a6-35473a3f0f60",
   "metadata": {},
   "outputs": [],
   "source": [
    "ratings_no_dup = ratings[~ratings[['Cust_Id', 'Movie_Id']].duplicated()]"
   ]
  },
  {
   "cell_type": "code",
   "execution_count": 46,
   "id": "3b0aaba7-cbd5-4492-913f-c18e39af80ca",
   "metadata": {},
   "outputs": [
    {
     "data": {
      "text/plain": [
       "(8241722, 3)"
      ]
     },
     "execution_count": 46,
     "metadata": {},
     "output_type": "execute_result"
    }
   ],
   "source": [
    "ratings_no_dup.shape"
   ]
  },
  {
   "cell_type": "code",
   "execution_count": 47,
   "id": "a7d7021c-dc03-4b93-8ff6-8823a0f35478",
   "metadata": {},
   "outputs": [],
   "source": [
    "movie_counts, cust_counts, ratings_counts = get_counts(ratings_no_dup)"
   ]
  },
  {
   "cell_type": "code",
   "execution_count": 48,
   "id": "4a4cff9a-0ab6-4a8f-ac6e-23b6eb32437c",
   "metadata": {},
   "outputs": [
    {
     "name": "stdout",
     "output_type": "stream",
     "text": [
      "Movie Counts count      474.000000\n",
      "mean     17387.599156\n",
      "std      18070.578804\n",
      "min         27.000000\n",
      "25%       1533.250000\n",
      "50%      10275.500000\n",
      "75%      29264.000000\n",
      "max      60148.000000\n",
      "Name: Movie_Id, dtype: float64 \n",
      "\n",
      "Customer Counts\n",
      " count    65505.000000\n",
      "mean       125.818212\n",
      "std         53.023582\n",
      "min          1.000000\n",
      "25%         87.000000\n",
      "50%        125.000000\n",
      "75%        162.000000\n",
      "max        473.000000\n",
      "Name: Cust_Id, dtype: float64 \n",
      "\n",
      "Ratings Counts\n",
      " count    5.000000e+00\n",
      "mean     1.648344e+06\n",
      "std      1.060562e+06\n",
      "min      3.423950e+05\n",
      "25%      8.220260e+05\n",
      "50%      1.780996e+06\n",
      "75%      2.431323e+06\n",
      "max      2.864982e+06\n",
      "Name: Rating, dtype: float64 \n",
      "\n"
     ]
    }
   ],
   "source": [
    "print('Movie Counts', movie_counts.describe(), '\\n')\n",
    "print('Customer Counts\\n', cust_counts.describe(), '\\n')\n",
    "print('Ratings Counts\\n', ratings_counts.describe(), '\\n')"
   ]
  },
  {
   "cell_type": "code",
   "execution_count": 38,
   "id": "4a047e50-f163-4215-bda3-4f3fe6abe921",
   "metadata": {},
   "outputs": [
    {
     "data": {
      "text/plain": [
       "13128    701\n",
       "38291    632\n",
       "29905    603\n",
       "58569    602\n",
       "42625    594\n",
       "        ... \n",
       "64209      1\n",
       "36949      1\n",
       "42768      1\n",
       "37382      1\n",
       "30481      1\n",
       "Name: Cust_Id, Length: 64620, dtype: int64"
      ]
     },
     "execution_count": 38,
     "metadata": {},
     "output_type": "execute_result"
    }
   ],
   "source": [
    "cust_counts"
   ]
  },
  {
   "cell_type": "code",
   "execution_count": 39,
   "id": "77ddc0ba-0590-4f97-a05c-36be6ba43aff",
   "metadata": {},
   "outputs": [
    {
     "data": {
      "text/html": [
       "<div>\n",
       "<style scoped>\n",
       "    .dataframe tbody tr th:only-of-type {\n",
       "        vertical-align: middle;\n",
       "    }\n",
       "\n",
       "    .dataframe tbody tr th {\n",
       "        vertical-align: top;\n",
       "    }\n",
       "\n",
       "    .dataframe thead th {\n",
       "        text-align: right;\n",
       "    }\n",
       "</style>\n",
       "<table border=\"1\" class=\"dataframe\">\n",
       "  <thead>\n",
       "    <tr style=\"text-align: right;\">\n",
       "      <th></th>\n",
       "      <th>Cust_Id</th>\n",
       "      <th>Rating</th>\n",
       "      <th>Movie_Id</th>\n",
       "    </tr>\n",
       "  </thead>\n",
       "  <tbody>\n",
       "    <tr>\n",
       "      <th>148145</th>\n",
       "      <td>13128</td>\n",
       "      <td>3</td>\n",
       "      <td>30</td>\n",
       "    </tr>\n",
       "    <tr>\n",
       "      <th>160668</th>\n",
       "      <td>13128</td>\n",
       "      <td>3</td>\n",
       "      <td>30</td>\n",
       "    </tr>\n",
       "    <tr>\n",
       "      <th>168939</th>\n",
       "      <td>13128</td>\n",
       "      <td>4</td>\n",
       "      <td>30</td>\n",
       "    </tr>\n",
       "    <tr>\n",
       "      <th>178713</th>\n",
       "      <td>13128</td>\n",
       "      <td>4</td>\n",
       "      <td>30</td>\n",
       "    </tr>\n",
       "    <tr>\n",
       "      <th>178854</th>\n",
       "      <td>13128</td>\n",
       "      <td>5</td>\n",
       "      <td>30</td>\n",
       "    </tr>\n",
       "    <tr>\n",
       "      <th>...</th>\n",
       "      <td>...</td>\n",
       "      <td>...</td>\n",
       "      <td>...</td>\n",
       "    </tr>\n",
       "    <tr>\n",
       "      <th>98742030</th>\n",
       "      <td>13128</td>\n",
       "      <td>5</td>\n",
       "      <td>17424</td>\n",
       "    </tr>\n",
       "    <tr>\n",
       "      <th>99043247</th>\n",
       "      <td>13128</td>\n",
       "      <td>3</td>\n",
       "      <td>17479</td>\n",
       "    </tr>\n",
       "    <tr>\n",
       "      <th>99084757</th>\n",
       "      <td>13128</td>\n",
       "      <td>4</td>\n",
       "      <td>17479</td>\n",
       "    </tr>\n",
       "    <tr>\n",
       "      <th>99828715</th>\n",
       "      <td>13128</td>\n",
       "      <td>3</td>\n",
       "      <td>17621</td>\n",
       "    </tr>\n",
       "    <tr>\n",
       "      <th>99832321</th>\n",
       "      <td>13128</td>\n",
       "      <td>3</td>\n",
       "      <td>17621</td>\n",
       "    </tr>\n",
       "  </tbody>\n",
       "</table>\n",
       "<p>701 rows × 3 columns</p>\n",
       "</div>"
      ],
      "text/plain": [
       "          Cust_Id  Rating  Movie_Id\n",
       "148145      13128       3        30\n",
       "160668      13128       3        30\n",
       "168939      13128       4        30\n",
       "178713      13128       4        30\n",
       "178854      13128       5        30\n",
       "...           ...     ...       ...\n",
       "98742030    13128       5     17424\n",
       "99043247    13128       3     17479\n",
       "99084757    13128       4     17479\n",
       "99828715    13128       3     17621\n",
       "99832321    13128       3     17621\n",
       "\n",
       "[701 rows x 3 columns]"
      ]
     },
     "execution_count": 39,
     "metadata": {},
     "output_type": "execute_result"
    }
   ],
   "source": [
    "ratings_no_dup[ratings_no_dup['Cust_Id'] == 13128]"
   ]
  },
  {
   "cell_type": "code",
   "execution_count": 33,
   "id": "9b7b8cca-cec7-4b79-a87a-751c237c62cc",
   "metadata": {},
   "outputs": [
    {
     "data": {
      "text/plain": [
       "(4878845, 3)"
      ]
     },
     "execution_count": 33,
     "metadata": {},
     "output_type": "execute_result"
    }
   ],
   "source": [
    "ratings_no_dup.shape"
   ]
  },
  {
   "cell_type": "code",
   "execution_count": 34,
   "id": "6bc82065-d2e8-4738-a6dd-2e986cb2db48",
   "metadata": {},
   "outputs": [
    {
     "data": {
      "text/plain": [
       "15107    100178\n",
       "571       95073\n",
       "11064     92601\n",
       "12911     88655\n",
       "1962      86682\n",
       "          ...  \n",
       "17024         1\n",
       "9253          1\n",
       "5439          1\n",
       "12437         1\n",
       "12420         1\n",
       "Name: Movie_Id, Length: 412, dtype: int64"
      ]
     },
     "execution_count": 34,
     "metadata": {},
     "output_type": "execute_result"
    }
   ],
   "source": [
    "movie_counts"
   ]
  },
  {
   "cell_type": "markdown",
   "id": "aec4bea8-b5dd-4773-86e8-c59dc9abce07",
   "metadata": {},
   "source": [
    "The duplicates contained different ratings, so I am not sure what the best way to determine a single value would be... I guess the first occurring value will suffice for now"
   ]
  },
  {
   "cell_type": "markdown",
   "id": "6a7e8f69-af5a-4294-9544-f17ba3d5dc31",
   "metadata": {},
   "source": [
    "## Outlier trimming"
   ]
  },
  {
   "cell_type": "code",
   "execution_count": 53,
   "id": "9d3c6c29-7d58-41d3-a1a7-1e59cce071b5",
   "metadata": {
    "tags": []
   },
   "outputs": [
    {
     "data": {
      "text/plain": [
       "pandas.core.series.Series"
      ]
     },
     "execution_count": 53,
     "metadata": {},
     "output_type": "execute_result"
    }
   ],
   "source": [
    "type(cust_counts)"
   ]
  },
  {
   "cell_type": "code",
   "execution_count": 51,
   "id": "875774a9-09e4-4520-89e5-11d2bdf0c7c5",
   "metadata": {},
   "outputs": [
    {
     "name": "stdout",
     "output_type": "stream",
     "text": [
      "Customer Ratings Count\n",
      "5% Quantile:  41.0\n",
      "95% Quantile:  215.0\n",
      "\n",
      "Moving Ratings Count\n",
      "5% Quantile:  147.3\n"
     ]
    }
   ],
   "source": [
    "cust_min = cust_counts.quantile(.05)\n",
    "cust_max = cust_counts.quantile(.95)\n",
    "\n",
    "print('Customer Ratings Count')\n",
    "print('5% Quantile: ', cust_min)\n",
    "print('95% Quantile: ', cust_max)\n",
    "\n",
    "movie_min = movie_counts.quantile(.05)\n",
    "\n",
    "print('\\nMoving Ratings Count')\n",
    "print('5% Quantile: ', movie_min)"
   ]
  },
  {
   "cell_type": "code",
   "execution_count": 54,
   "id": "1babbf3a-57ba-4ed0-a956-0ae7e04ff119",
   "metadata": {},
   "outputs": [],
   "source": [
    "#get index of all customers below 5% threshold\n",
    "cust_low_threshold = list(cust_counts[cust_counts < cust_min].index)\n",
    "#get index of all customers above 95% threshold\n",
    "cust_high_threshold = list(cust_counts[cust_counts > cust_max].index)\n",
    "#combine customer indices\n",
    "customers_to_drop = cust_low_threshold + cust_high_threshold\n",
    "#get index of all movies below 5% threshold\n",
    "movies_to_drop = list(movie_counts[movie_counts < movie_min].index)\n",
    "\n",
    "#drop\n",
    "ratings_no_dup = ratings_no_dup[~ratings_no_dup['Movie_Id'].isin(movies_to_drop)]\n",
    "ratings_no_dup = ratings_no_dup[~ratings_no_dup['Cust_Id'].isin(customers_to_drop)]"
   ]
  },
  {
   "cell_type": "code",
   "execution_count": 57,
   "id": "cb8ed134-fde2-49c6-8d59-31bee1f93fd5",
   "metadata": {},
   "outputs": [
    {
     "name": "stdout",
     "output_type": "stream",
     "text": [
      "Movie Counts count      450.000000\n",
      "mean     16403.248889\n",
      "std      16752.074752\n",
      "min        105.000000\n",
      "25%       1691.000000\n",
      "50%      10055.500000\n",
      "75%      28015.500000\n",
      "max      55754.000000\n",
      "Name: Movie_Id, dtype: float64 \n",
      "\n",
      "Customer Counts\n",
      " count    59046.000000\n",
      "mean       125.012058\n",
      "std         43.156647\n",
      "min         40.000000\n",
      "25%         91.000000\n",
      "50%        125.000000\n",
      "75%        158.000000\n",
      "max        215.000000\n",
      "Name: Cust_Id, dtype: float64 \n",
      "\n",
      "Ratings Counts\n",
      " count    5.000000e+00\n",
      "mean     1.476292e+06\n",
      "std      9.570645e+05\n",
      "min      2.989480e+05\n",
      "25%      7.256910e+05\n",
      "50%      1.610113e+06\n",
      "75%      2.164792e+06\n",
      "max      2.581918e+06\n",
      "Name: Rating, dtype: float64 \n",
      "\n"
     ]
    }
   ],
   "source": [
    "movie_counts, cust_counts, ratings_counts = get_counts(ratings_no_dup)\n",
    "print('Movie Counts', movie_counts.describe(), '\\n')\n",
    "print('Customer Counts\\n', cust_counts.describe(), '\\n')\n",
    "print('Ratings Counts\\n', ratings_counts.describe(), '\\n')"
   ]
  },
  {
   "cell_type": "code",
   "execution_count": 59,
   "id": "2f37e6bf-07e5-43f5-9090-bc4b459bb339",
   "metadata": {},
   "outputs": [
    {
     "data": {
      "text/plain": [
       "(7381462, 3)"
      ]
     },
     "execution_count": 59,
     "metadata": {},
     "output_type": "execute_result"
    }
   ],
   "source": [
    "ratings_no_dup.shape"
   ]
  },
  {
   "cell_type": "markdown",
   "id": "17ea80d1-f134-49e9-ae5a-e612cf9fa8bc",
   "metadata": {},
   "source": [
    "## Exploration"
   ]
  },
  {
   "cell_type": "markdown",
   "id": "207cfacc-c1c4-4e94-b96c-8ec4c8b49f83",
   "metadata": {},
   "source": [
    "#### Distribution of occurences"
   ]
  },
  {
   "cell_type": "code",
   "execution_count": 65,
   "id": "dd3649cf-cad4-4a89-9a50-55cc0314e94a",
   "metadata": {},
   "outputs": [
    {
     "data": {
      "text/plain": [
       "<AxesSubplot:xlabel='Movie_Id', ylabel='Count'>"
      ]
     },
     "execution_count": 65,
     "metadata": {},
     "output_type": "execute_result"
    },
    {
     "data": {
      "image/png": "[encoded data removed]",
      "text/plain": [
       "<Figure size 432x288 with 1 Axes>"
      ]
     },
     "metadata": {
      "needs_background": "light"
     },
     "output_type": "display_data"
    }
   ],
   "source": [
    "sns.histplot(ratings_no_dup.Movie_Id.value_counts())"
   ]
  },
  {
   "cell_type": "code",
   "execution_count": 69,
   "id": "5e160c38-c1a5-47e5-8663-305dbcbd0e93",
   "metadata": {},
   "outputs": [
    {
     "data": {
      "text/plain": [
       "<AxesSubplot:xlabel='Cust_Id', ylabel='Count'>"
      ]
     },
     "execution_count": 69,
     "metadata": {},
     "output_type": "execute_result"
    },
    {
     "data": {
      "image/png": "[encoded data removed]",
      "text/plain": [
       "<Figure size 432x288 with 1 Axes>"
      ]
     },
     "metadata": {
      "needs_background": "light"
     },
     "output_type": "display_data"
    }
   ],
   "source": [
    "sns.histplot(ratings_no_dup.Cust_Id.value_counts())"
   ]
  },
  {
   "cell_type": "code",
   "execution_count": 73,
   "id": "29c05f11-cdf0-4ced-a76e-8b7ec28f1ea3",
   "metadata": {},
   "outputs": [
    {
     "data": {
      "text/plain": [
       "<AxesSubplot:xlabel='Rating', ylabel='Count'>"
      ]
     },
     "execution_count": 73,
     "metadata": {},
     "output_type": "execute_result"
    },
    {
     "data": {
      "image/png": "[encoded data removed]",
      "text/plain": [
       "<Figure size 432x288 with 1 Axes>"
      ]
     },
     "metadata": {
      "needs_background": "light"
     },
     "output_type": "display_data"
    }
   ],
   "source": [
    "sns.histplot(ratings_no_dup.Rating, bins = 5)"
   ]
  },
  {
   "cell_type": "code",
   "execution_count": 74,
   "id": "1057bdd2-df67-449a-9f79-2a8dc3753de5",
   "metadata": {},
   "outputs": [
    {
     "name": "stdout",
     "output_type": "stream",
     "text": [
      "<class 'pandas.core.frame.DataFrame'>\n",
      "Int64Index: 7381462 entries, 92798 to 100325307\n",
      "Columns: 3 entries, Cust_Id to Movie_Id\n",
      "dtypes: uint16(3)\n",
      "memory usage: 98.6 MB\n"
     ]
    }
   ],
   "source": [
    "ratings_no_dup.info(verbose=False, memory_usage=\"deep\")"
   ]
  },
  {
   "cell_type": "code",
   "execution_count": 76,
   "id": "f9ba9f99-1602-4b8d-a2b6-5286e9141d38",
   "metadata": {},
   "outputs": [],
   "source": [
    "ratings_pivot = ratings_no_dup.pivot_table(index = 'Cust_Id', columns = 'Movie_Id', values = 'Rating')"
   ]
  },
  {
   "cell_type": "code",
   "execution_count": 79,
   "id": "322774a5-6116-4761-8b02-e0a257aaa73a",
   "metadata": {},
   "outputs": [],
   "source": [
    "ratings_pivot.fillna(0, inplace=True)"
   ]
  },
  {
   "cell_type": "code",
   "execution_count": 81,
   "id": "4770bb5b-7331-4e13-8a74-816ff59fb9cc",
   "metadata": {},
   "outputs": [],
   "source": [
    "ratings_pivot.to_csv('../data/ratings_pivot.csv')"
   ]
  },
  {
   "cell_type": "code",
   "execution_count": 75,
   "id": "c5919bfb-e2ae-43b8-9b78-bebcdf13ca9b",
   "metadata": {},
   "outputs": [],
   "source": [
    "ratings_no_dup.to_csv('../data/ratings_filtered.csv', index = False)"
   ]
  }
 ],
 "metadata": {
  "kernelspec": {
   "display_name": "Python 3 (ipykernel)",
   "language": "python",
   "name": "python3"
  },
  "language_info": {
   "codemirror_mode": {
    "name": "ipython",
    "version": 3
   },
   "file_extension": ".py",
   "mimetype": "text/x-python",
   "name": "python",
   "nbconvert_exporter": "python",
   "pygments_lexer": "ipython3",
   "version": "3.9.7"
  }
 },
 "nbformat": 4,
 "nbformat_minor": 5
}
