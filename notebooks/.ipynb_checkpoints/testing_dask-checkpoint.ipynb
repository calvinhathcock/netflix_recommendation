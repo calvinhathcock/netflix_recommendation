{
 "cells": [
  {
   "cell_type": "markdown",
   "id": "273df10d-3196-431a-a8cd-1c9f503fcc52",
   "metadata": {},
   "source": [
    "## Testing Dask"
   ]
  },
  {
   "cell_type": "code",
   "execution_count": null,
   "id": "7fe999ec-1054-4ce9-99a9-76283940910a",
   "metadata": {},
   "outputs": [],
   "source": []
  }
 ],
 "metadata": {
  "kernelspec": {
   "display_name": "Python 3 (ipykernel)",
   "language": "python",
   "name": "python3"
  },
  "language_info": {
   "codemirror_mode": {
    "name": "ipython",
    "version": 3
   },
   "file_extension": ".py",
   "mimetype": "text/x-python",
   "name": "python",
   "nbconvert_exporter": "python",
   "pygments_lexer": "ipython3",
   "version": "3.9.5"
  }
 },
 "nbformat": 4,
 "nbformat_minor": 5
}
