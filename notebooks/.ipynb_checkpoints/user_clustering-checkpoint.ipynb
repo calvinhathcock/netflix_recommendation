{
 "cells": [
  {
   "cell_type": "markdown",
   "id": "1bdb02ad-3bbc-4457-a933-5503957a43bf",
   "metadata": {},
   "source": [
    "# Clustering users first"
   ]
  }
 ],
 "metadata": {
  "kernelspec": {
   "display_name": "Python 3 (ipykernel)",
   "language": "python",
   "name": "python3"
  },
  "language_info": {
   "codemirror_mode": {
    "name": "ipython",
    "version": 3
   },
   "file_extension": ".py",
   "mimetype": "text/x-python",
   "name": "python",
   "nbconvert_exporter": "python",
   "pygments_lexer": "ipython3",
   "version": "3.9.7"
  }
 },
 "nbformat": 4,
 "nbformat_minor": 5
}
