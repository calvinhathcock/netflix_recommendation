{
 "cells": [
  {
   "cell_type": "markdown",
   "id": "cb47253a-589e-4fc0-8890-1b888f666d1c",
   "metadata": {},
   "source": [
    "### Various Data Visualizations"
   ]
  },
  {
   "cell_type": "code",
   "execution_count": 33,
   "id": "86eb49a4-4b19-4e6a-8717-20185d70de41",
   "metadata": {},
   "outputs": [],
   "source": [
    "import pandas as pd\n",
    "import matplotlib.pyplot as plt\n",
    "import seaborn as sns"
   ]
  },
  {
   "cell_type": "code",
   "execution_count": 1,
   "id": "610179bc-6381-46a6-8f18-70847198987c",
   "metadata": {},
   "outputs": [],
   "source": [
    "#og_df = pd.read_csv('netflix-data/combined_data_all.txt')"
   ]
  },
  {
   "cell_type": "code",
   "execution_count": 2,
   "id": "caf71997-fe13-4cd5-8c1c-2f884d4a08ca",
   "metadata": {},
   "outputs": [],
   "source": [
    "df = pd.read_csv('combined_data_cleaned.csv')"
   ]
  },
  {
   "cell_type": "code",
   "execution_count": 3,
   "id": "7e97b6f2-53c8-4e9a-8c20-34704f01f05b",
   "metadata": {},
   "outputs": [
    {
     "data": {
      "text/html": [
       "<div>\n",
       "<style scoped>\n",
       "    .dataframe tbody tr th:only-of-type {\n",
       "        vertical-align: middle;\n",
       "    }\n",
       "\n",
       "    .dataframe tbody tr th {\n",
       "        vertical-align: top;\n",
       "    }\n",
       "\n",
       "    .dataframe thead th {\n",
       "        text-align: right;\n",
       "    }\n",
       "</style>\n",
       "<table border=\"1\" class=\"dataframe\">\n",
       "  <thead>\n",
       "    <tr style=\"text-align: right;\">\n",
       "      <th></th>\n",
       "      <th>Cust_Id</th>\n",
       "      <th>Rating</th>\n",
       "      <th>Movie_Id</th>\n",
       "    </tr>\n",
       "  </thead>\n",
       "  <tbody>\n",
       "    <tr>\n",
       "      <th>0</th>\n",
       "      <td>822109</td>\n",
       "      <td>5</td>\n",
       "      <td>1</td>\n",
       "    </tr>\n",
       "    <tr>\n",
       "      <th>1</th>\n",
       "      <td>124105</td>\n",
       "      <td>4</td>\n",
       "      <td>1</td>\n",
       "    </tr>\n",
       "    <tr>\n",
       "      <th>2</th>\n",
       "      <td>1842128</td>\n",
       "      <td>4</td>\n",
       "      <td>1</td>\n",
       "    </tr>\n",
       "    <tr>\n",
       "      <th>3</th>\n",
       "      <td>2238063</td>\n",
       "      <td>3</td>\n",
       "      <td>1</td>\n",
       "    </tr>\n",
       "    <tr>\n",
       "      <th>4</th>\n",
       "      <td>1503895</td>\n",
       "      <td>4</td>\n",
       "      <td>1</td>\n",
       "    </tr>\n",
       "    <tr>\n",
       "      <th>...</th>\n",
       "      <td>...</td>\n",
       "      <td>...</td>\n",
       "      <td>...</td>\n",
       "    </tr>\n",
       "    <tr>\n",
       "      <th>35021630</th>\n",
       "      <td>357707</td>\n",
       "      <td>3</td>\n",
       "      <td>17770</td>\n",
       "    </tr>\n",
       "    <tr>\n",
       "      <th>35021631</th>\n",
       "      <td>111084</td>\n",
       "      <td>2</td>\n",
       "      <td>17770</td>\n",
       "    </tr>\n",
       "    <tr>\n",
       "      <th>35021632</th>\n",
       "      <td>1983962</td>\n",
       "      <td>2</td>\n",
       "      <td>17770</td>\n",
       "    </tr>\n",
       "    <tr>\n",
       "      <th>35021633</th>\n",
       "      <td>897629</td>\n",
       "      <td>3</td>\n",
       "      <td>17770</td>\n",
       "    </tr>\n",
       "    <tr>\n",
       "      <th>35021634</th>\n",
       "      <td>986348</td>\n",
       "      <td>4</td>\n",
       "      <td>17770</td>\n",
       "    </tr>\n",
       "  </tbody>\n",
       "</table>\n",
       "<p>35021635 rows × 3 columns</p>\n",
       "</div>"
      ],
      "text/plain": [
       "          Cust_Id  Rating  Movie_Id\n",
       "0          822109       5         1\n",
       "1          124105       4         1\n",
       "2         1842128       4         1\n",
       "3         2238063       3         1\n",
       "4         1503895       4         1\n",
       "...           ...     ...       ...\n",
       "35021630   357707       3     17770\n",
       "35021631   111084       2     17770\n",
       "35021632  1983962       2     17770\n",
       "35021633   897629       3     17770\n",
       "35021634   986348       4     17770\n",
       "\n",
       "[35021635 rows x 3 columns]"
      ]
     },
     "execution_count": 3,
     "metadata": {},
     "output_type": "execute_result"
    }
   ],
   "source": [
    "df"
   ]
  },
  {
   "cell_type": "markdown",
   "id": "04146971-f299-4655-ac0d-68e76f3b13e9",
   "metadata": {},
   "source": [
    "### Distribution of Ratings"
   ]
  },
  {
   "cell_type": "code",
   "execution_count": 4,
   "id": "8b5c9d62-795d-4fc3-8e48-afef49f19ed2",
   "metadata": {},
   "outputs": [],
   "source": [
    "ratings_grouped = df.groupby('Rating')['Rating'].agg(['count'])"
   ]
  },
  {
   "cell_type": "code",
   "execution_count": 6,
   "id": "9c2815b8-dd02-4432-b227-0ce06263c964",
   "metadata": {},
   "outputs": [
    {
     "data": {
      "text/plain": [
       "[Text(0.5, 1.0, 'Distribution of Ratings')]"
      ]
     },
     "execution_count": 6,
     "metadata": {},
     "output_type": "execute_result"
    },
    {
     "data": {
      "image/png": "[encoded data removed]",
      "text/plain": [
       "<Figure size 432x288 with 1 Axes>"
      ]
     },
     "metadata": {
      "needs_background": "light"
     },
     "output_type": "display_data"
    }
   ],
   "source": [
    "sns.barplot(data = ratings_grouped, y = 'count', x = ratings_grouped.index, palette = 'crest').set(title = 'Distribution of Ratings')"
   ]
  },
  {
   "cell_type": "markdown",
   "id": "eb3fda2d-542f-4f2b-a7cc-017608efbca9",
   "metadata": {},
   "source": [
    "### Distribution of Number of Ratings Given (Customer)"
   ]
  },
  {
   "cell_type": "code",
   "execution_count": 7,
   "id": "8b3fd78d-1d22-491b-9a4d-79d5f6397cfc",
   "metadata": {},
   "outputs": [],
   "source": [
    "del df"
   ]
  },
  {
   "cell_type": "code",
   "execution_count": 8,
   "id": "4348176b-ac3a-4026-ad64-117a6f3a09f2",
   "metadata": {},
   "outputs": [],
   "source": [
    "df = pd.read_csv('data_pivot.csv')"
   ]
  },
  {
   "cell_type": "code",
   "execution_count": 17,
   "id": "a1be3c62-0789-4220-af0c-5195f8aa64d0",
   "metadata": {},
   "outputs": [
    {
     "data": {
      "text/plain": [
       "(29159, 4786)"
      ]
     },
     "execution_count": 17,
     "metadata": {},
     "output_type": "execute_result"
    }
   ],
   "source": [
    "df.shape"
   ]
  },
  {
   "cell_type": "code",
   "execution_count": 18,
   "id": "9fcac29e-7c0c-4202-92fb-ff35c87578c8",
   "metadata": {},
   "outputs": [],
   "source": [
    "rating_by_cust = df.isnull().sum(axis=1).apply(lambda x : 4786 - x)"
   ]
  },
  {
   "cell_type": "code",
   "execution_count": 19,
   "id": "1374bf6f-41d7-4581-8ce0-7bca046f283b",
   "metadata": {},
   "outputs": [
    {
     "data": {
      "text/plain": [
       "0         67\n",
       "1          8\n",
       "2         42\n",
       "3         85\n",
       "4         32\n",
       "        ... \n",
       "29154     18\n",
       "29155    111\n",
       "29156     69\n",
       "29157      7\n",
       "29158     75\n",
       "Length: 29159, dtype: int64"
      ]
     },
     "execution_count": 19,
     "metadata": {},
     "output_type": "execute_result"
    }
   ],
   "source": [
    "rating_by_cust"
   ]
  },
  {
   "cell_type": "code",
   "execution_count": 21,
   "id": "22811e59-0bec-4d8e-af73-2b0b710ffdc1",
   "metadata": {},
   "outputs": [
    {
     "data": {
      "text/plain": [
       "count    29159.000000\n",
       "mean        38.644981\n",
       "std         25.236670\n",
       "min          3.000000\n",
       "25%         18.000000\n",
       "50%         31.000000\n",
       "75%         55.000000\n",
       "max        121.000000\n",
       "dtype: float64"
      ]
     },
     "execution_count": 21,
     "metadata": {},
     "output_type": "execute_result"
    }
   ],
   "source": [
    "rating_by_cust.describe()"
   ]
  },
  {
   "cell_type": "code",
   "execution_count": 45,
   "id": "0021a5df-fe9a-479f-bf8e-9c87b5ccea97",
   "metadata": {},
   "outputs": [
    {
     "data": {
      "text/plain": [
       "<seaborn.axisgrid.FacetGrid at 0x7f9440ade370>"
      ]
     },
     "execution_count": 45,
     "metadata": {},
     "output_type": "execute_result"
    },
    {
     "data": {
      "image/png": "[encoded data removed]",
      "text/plain": [
       "<Figure size 360x360 with 1 Axes>"
      ]
     },
     "metadata": {
      "needs_background": "light"
     },
     "output_type": "display_data"
    }
   ],
   "source": [
    "sns.displot(rating_by_cust, palette = 'crest').set(title='How many ratings have users given?', ylabel = 'Customers', xlabel = 'Ratings')"
   ]
  },
  {
   "cell_type": "markdown",
   "id": "901be27f-d874-47d8-aca1-918d83f15052",
   "metadata": {},
   "source": [
    "### Distribution of Number of Ratings Received (Movie)"
   ]
  },
  {
   "cell_type": "code",
   "execution_count": 27,
   "id": "deb7c370-7a5d-4c94-81c7-829a2bbd4a05",
   "metadata": {},
   "outputs": [],
   "source": [
    "movie_rating_count = df.isnull().sum(axis=0).apply(lambda x : 29159 - x)"
   ]
  },
  {
   "cell_type": "code",
   "execution_count": 28,
   "id": "75f56a9a-fd7b-47bf-b970-2921695daee9",
   "metadata": {},
   "outputs": [
    {
     "data": {
      "text/plain": [
       "count     4786.000000\n",
       "mean       235.446929\n",
       "std        939.428837\n",
       "min          1.000000\n",
       "25%          8.000000\n",
       "50%         21.000000\n",
       "75%         80.000000\n",
       "max      29159.000000\n",
       "dtype: float64"
      ]
     },
     "execution_count": 28,
     "metadata": {},
     "output_type": "execute_result"
    }
   ],
   "source": [
    "movie_rating_count.describe()"
   ]
  },
  {
   "cell_type": "code",
   "execution_count": 65,
   "id": "fa300c4f-bd03-4f44-920d-5a1aaa497fec",
   "metadata": {},
   "outputs": [
    {
     "data": {
      "image/png": "[encoded data removed]",
      "text/plain": [
       "<Figure size 432x288 with 1 Axes>"
      ]
     },
     "metadata": {
      "needs_background": "light"
     },
     "output_type": "display_data"
    }
   ],
   "source": [
    "fig, ax = plt.subplots()\n",
    "sns.histplot(movie_rating_count, palette = 'crest', ax = ax).set(title='How many ratings have movies received?', ylabel = 'Movies', xlabel = 'Ratings')\n",
    "ax.set_xlim(0, 150)\n",
    "ax.set_ylim(0,1500)\n",
    "plt.show()\n"
   ]
  },
  {
   "cell_type": "markdown",
   "id": "7e117e49-3a8d-4bb6-974c-9b7b85f18e29",
   "metadata": {},
   "source": [
    "### Top Rated Movies"
   ]
  },
  {
   "cell_type": "code",
   "execution_count": 54,
   "id": "229c45fb-2339-4d31-9c6c-fc9163dd33e8",
   "metadata": {},
   "outputs": [],
   "source": [
    "ratings = movie_rating_count.sort_values()"
   ]
  },
  {
   "cell_type": "code",
   "execution_count": 59,
   "id": "0faedb4a-849b-40e8-99ee-99f898b561a3",
   "metadata": {},
   "outputs": [],
   "source": [
    "top_ten = ratings[len(ratings)-11:len(ratings)-1]"
   ]
  },
  {
   "cell_type": "code",
   "execution_count": 71,
   "id": "2f9be85b-70da-430a-bc68-0e5d5bde8fef",
   "metadata": {},
   "outputs": [
    {
     "data": {
      "text/plain": [
       "[Text(0.5, 0, 'Movie'), Text(0, 0.5, 'Ratings Received')]"
      ]
     },
     "execution_count": 71,
     "metadata": {},
     "output_type": "execute_result"
    },
    {
     "data": {
      "image/png": "[encoded data removed]",
      "text/plain": [
       "<Figure size 432x288 with 1 Axes>"
      ]
     },
     "metadata": {
      "needs_background": "light"
     },
     "output_type": "display_data"
    }
   ],
   "source": [
    "sns.barplot(y = top_ten.values, x = top_ten.index, palette = 'crest').set(xlabel = 'Movie', ylabel = 'Ratings Received')"
   ]
  },
  {
   "cell_type": "code",
   "execution_count": 79,
   "id": "d17fd82b-6dd9-40ca-9cca-ffc2fc6241da",
   "metadata": {},
   "outputs": [],
   "source": [
    "titles = {\n",
    "    7624: 'Top Gun',\n",
    "    1962: '50 First Dates',\n",
    "    17169: 'National Teasure',\n",
    "    6386: 'SIster Act',\n",
    "    5317: 'Miss Congeniality',\n",
    "    12911: 'Double Jeopardy',\n",
    "    7234: 'Men of Honor',\n",
    "    12317: 'The Rock',\n",
    "    14313: 'The Patriot',\n",
    "    15124: 'Independence Day'\n",
    "}\n",
    "    "
   ]
  },
  {
   "cell_type": "code",
   "execution_count": 81,
   "id": "d27d3ed3-61db-4d25-9a60-d27193f8582a",
   "metadata": {},
   "outputs": [
    {
     "data": {
      "text/plain": [
       "'Top Gun'"
      ]
     },
     "execution_count": 81,
     "metadata": {},
     "output_type": "execute_result"
    }
   ],
   "source": [
    "titles[7624]"
   ]
  },
  {
   "cell_type": "code",
   "execution_count": 91,
   "id": "27a9fba3-409c-4dfe-b13a-ada800586ff3",
   "metadata": {},
   "outputs": [
    {
     "ename": "KeyError",
     "evalue": "0",
     "output_type": "error",
     "traceback": [
      "\u001b[0;31m---------------------------------------------------------------------------\u001b[0m",
      "\u001b[0;31mKeyError\u001b[0m                                  Traceback (most recent call last)",
      "\u001b[0;32m/tmp/ipykernel_6844/2017103414.py\u001b[0m in \u001b[0;36m<module>\u001b[0;34m\u001b[0m\n\u001b[1;32m      1\u001b[0m \u001b[0;31m#movie name look-up\u001b[0m\u001b[0;34m\u001b[0m\u001b[0;34m\u001b[0m\u001b[0;34m\u001b[0m\u001b[0m\n\u001b[0;32m----> 2\u001b[0;31m \u001b[0mtop_ten\u001b[0m \u001b[0;34m=\u001b[0m \u001b[0mpd\u001b[0m\u001b[0;34m.\u001b[0m\u001b[0mSeries\u001b[0m\u001b[0;34m(\u001b[0m\u001b[0mtop_ten\u001b[0m\u001b[0;34m.\u001b[0m\u001b[0mindex\u001b[0m\u001b[0;34m)\u001b[0m\u001b[0;34m.\u001b[0m\u001b[0mapply\u001b[0m\u001b[0;34m(\u001b[0m\u001b[0;32mlambda\u001b[0m \u001b[0mx\u001b[0m \u001b[0;34m:\u001b[0m \u001b[0mtitles\u001b[0m\u001b[0;34m[\u001b[0m\u001b[0mx\u001b[0m\u001b[0;34m]\u001b[0m\u001b[0;34m)\u001b[0m\u001b[0;34m\u001b[0m\u001b[0;34m\u001b[0m\u001b[0m\n\u001b[0m",
      "\u001b[0;32m~/.local/lib/python3.9/site-packages/pandas/core/series.py\u001b[0m in \u001b[0;36mapply\u001b[0;34m(self, func, convert_dtype, args, **kwargs)\u001b[0m\n\u001b[1;32m   4355\u001b[0m         \u001b[0mdtype\u001b[0m\u001b[0;34m:\u001b[0m \u001b[0mfloat64\u001b[0m\u001b[0;34m\u001b[0m\u001b[0;34m\u001b[0m\u001b[0m\n\u001b[1;32m   4356\u001b[0m         \"\"\"\n\u001b[0;32m-> 4357\u001b[0;31m         \u001b[0;32mreturn\u001b[0m \u001b[0mSeriesApply\u001b[0m\u001b[0;34m(\u001b[0m\u001b[0mself\u001b[0m\u001b[0;34m,\u001b[0m \u001b[0mfunc\u001b[0m\u001b[0;34m,\u001b[0m \u001b[0mconvert_dtype\u001b[0m\u001b[0;34m,\u001b[0m \u001b[0margs\u001b[0m\u001b[0;34m,\u001b[0m \u001b[0mkwargs\u001b[0m\u001b[0;34m)\u001b[0m\u001b[0;34m.\u001b[0m\u001b[0mapply\u001b[0m\u001b[0;34m(\u001b[0m\u001b[0;34m)\u001b[0m\u001b[0;34m\u001b[0m\u001b[0;34m\u001b[0m\u001b[0m\n\u001b[0m\u001b[1;32m   4358\u001b[0m \u001b[0;34m\u001b[0m\u001b[0m\n\u001b[1;32m   4359\u001b[0m     def _reduce(\n",
      "\u001b[0;32m~/.local/lib/python3.9/site-packages/pandas/core/apply.py\u001b[0m in \u001b[0;36mapply\u001b[0;34m(self)\u001b[0m\n\u001b[1;32m   1041\u001b[0m             \u001b[0;32mreturn\u001b[0m \u001b[0mself\u001b[0m\u001b[0;34m.\u001b[0m\u001b[0mapply_str\u001b[0m\u001b[0;34m(\u001b[0m\u001b[0;34m)\u001b[0m\u001b[0;34m\u001b[0m\u001b[0;34m\u001b[0m\u001b[0m\n\u001b[1;32m   1042\u001b[0m \u001b[0;34m\u001b[0m\u001b[0m\n\u001b[0;32m-> 1043\u001b[0;31m         \u001b[0;32mreturn\u001b[0m \u001b[0mself\u001b[0m\u001b[0;34m.\u001b[0m\u001b[0mapply_standard\u001b[0m\u001b[0;34m(\u001b[0m\u001b[0;34m)\u001b[0m\u001b[0;34m\u001b[0m\u001b[0;34m\u001b[0m\u001b[0m\n\u001b[0m\u001b[1;32m   1044\u001b[0m \u001b[0;34m\u001b[0m\u001b[0m\n\u001b[1;32m   1045\u001b[0m     \u001b[0;32mdef\u001b[0m \u001b[0magg\u001b[0m\u001b[0;34m(\u001b[0m\u001b[0mself\u001b[0m\u001b[0;34m)\u001b[0m\u001b[0;34m:\u001b[0m\u001b[0;34m\u001b[0m\u001b[0;34m\u001b[0m\u001b[0m\n",
      "\u001b[0;32m~/.local/lib/python3.9/site-packages/pandas/core/apply.py\u001b[0m in \u001b[0;36mapply_standard\u001b[0;34m(self)\u001b[0m\n\u001b[1;32m   1096\u001b[0m                 \u001b[0;31m# List[Union[Callable[..., Any], str]]]]]\"; expected\u001b[0m\u001b[0;34m\u001b[0m\u001b[0;34m\u001b[0m\u001b[0;34m\u001b[0m\u001b[0m\n\u001b[1;32m   1097\u001b[0m                 \u001b[0;31m# \"Callable[[Any], Any]\"\u001b[0m\u001b[0;34m\u001b[0m\u001b[0;34m\u001b[0m\u001b[0;34m\u001b[0m\u001b[0m\n\u001b[0;32m-> 1098\u001b[0;31m                 mapped = lib.map_infer(\n\u001b[0m\u001b[1;32m   1099\u001b[0m                     \u001b[0mvalues\u001b[0m\u001b[0;34m,\u001b[0m\u001b[0;34m\u001b[0m\u001b[0;34m\u001b[0m\u001b[0m\n\u001b[1;32m   1100\u001b[0m                     \u001b[0mf\u001b[0m\u001b[0;34m,\u001b[0m  \u001b[0;31m# type: ignore[arg-type]\u001b[0m\u001b[0;34m\u001b[0m\u001b[0;34m\u001b[0m\u001b[0m\n",
      "\u001b[0;32m~/.local/lib/python3.9/site-packages/pandas/_libs/lib.pyx\u001b[0m in \u001b[0;36mpandas._libs.lib.map_infer\u001b[0;34m()\u001b[0m\n",
      "\u001b[0;32m/tmp/ipykernel_6844/2017103414.py\u001b[0m in \u001b[0;36m<lambda>\u001b[0;34m(x)\u001b[0m\n\u001b[1;32m      1\u001b[0m \u001b[0;31m#movie name look-up\u001b[0m\u001b[0;34m\u001b[0m\u001b[0;34m\u001b[0m\u001b[0;34m\u001b[0m\u001b[0m\n\u001b[0;32m----> 2\u001b[0;31m \u001b[0mtop_ten\u001b[0m \u001b[0;34m=\u001b[0m \u001b[0mpd\u001b[0m\u001b[0;34m.\u001b[0m\u001b[0mSeries\u001b[0m\u001b[0;34m(\u001b[0m\u001b[0mtop_ten\u001b[0m\u001b[0;34m.\u001b[0m\u001b[0mindex\u001b[0m\u001b[0;34m)\u001b[0m\u001b[0;34m.\u001b[0m\u001b[0mapply\u001b[0m\u001b[0;34m(\u001b[0m\u001b[0;32mlambda\u001b[0m \u001b[0mx\u001b[0m \u001b[0;34m:\u001b[0m \u001b[0mtitles\u001b[0m\u001b[0;34m[\u001b[0m\u001b[0mx\u001b[0m\u001b[0;34m]\u001b[0m\u001b[0;34m)\u001b[0m\u001b[0;34m\u001b[0m\u001b[0;34m\u001b[0m\u001b[0m\n\u001b[0m",
      "\u001b[0;31mKeyError\u001b[0m: 0"
     ]
    }
   ],
   "source": [
    "#movie name look-up\n",
    "top_ten = pd.Series(top_ten.index).apply(lambda x : titles[x]) "
   ]
  },
  {
   "cell_type": "code",
   "execution_count": 90,
   "id": "a2727f45-f8a6-4c92-9388-b0febdc9dea3",
   "metadata": {},
   "outputs": [
    {
     "data": {
      "text/plain": [
       "0     7624\n",
       "1     1962\n",
       "2    17169\n",
       "3     6386\n",
       "4    12911\n",
       "5     7234\n",
       "6    12317\n",
       "7    14313\n",
       "8    15124\n",
       "9     5317\n",
       "dtype: object"
      ]
     },
     "execution_count": 90,
     "metadata": {},
     "output_type": "execute_result"
    }
   ],
   "source": [
    "top_ten"
   ]
  }
 ],
 "metadata": {
  "kernelspec": {
   "display_name": "Python 3 (ipykernel)",
   "language": "python",
   "name": "python3"
  },
  "language_info": {
   "codemirror_mode": {
    "name": "ipython",
    "version": 3
   },
   "file_extension": ".py",
   "mimetype": "text/x-python",
   "name": "python",
   "nbconvert_exporter": "python",
   "pygments_lexer": "ipython3",
   "version": "3.9.5"
  }
 },
 "nbformat": 4,
 "nbformat_minor": 5
}
