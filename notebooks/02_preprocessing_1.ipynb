{
 "cells": [
  {
   "cell_type": "markdown",
   "id": "99a6b981-e61c-4c5c-9223-abc572b2d4ae",
   "metadata": {},
   "source": [
    "# Converting Netflix Prize user data to standard CSV format"
   ]
  },
  {
   "cell_type": "markdown",
   "id": "589d6f13-94e8-441e-9e17-541975370eb0",
   "metadata": {},
   "source": [
    "# **THIS NOTEBOOK NEEDS AT LEAST 16GB OR RAM**"
   ]
  },
  {
   "cell_type": "code",
   "execution_count": 1,
   "id": "dbfef0c0-cdc9-41c4-aaf4-49eac68da53c",
   "metadata": {},
   "outputs": [],
   "source": [
    "import pandas as pd\n",
    "import numpy as np\n",
    "import matplotlib.pyplot as plt\n",
    "import seaborn as sns\n",
    "import gc"
   ]
  },
  {
   "cell_type": "code",
   "execution_count": 3,
   "id": "4ccc4496-774e-4145-8327-2d54730de020",
   "metadata": {},
   "outputs": [],
   "source": [
    "ratings = pd.read_csv('data/combined_data_all.txt', header = None, names = ['Cust_Id', 'Rating'], usecols = [0,1])"
   ]
  },
  {
   "cell_type": "code",
   "execution_count": 4,
   "id": "ee29eb81-f5a3-4075-b78c-6fca8359d14c",
   "metadata": {},
   "outputs": [
    {
     "data": {
      "text/html": [
       "<div>\n",
       "<style scoped>\n",
       "    .dataframe tbody tr th:only-of-type {\n",
       "        vertical-align: middle;\n",
       "    }\n",
       "\n",
       "    .dataframe tbody tr th {\n",
       "        vertical-align: top;\n",
       "    }\n",
       "\n",
       "    .dataframe thead th {\n",
       "        text-align: right;\n",
       "    }\n",
       "</style>\n",
       "<table border=\"1\" class=\"dataframe\">\n",
       "  <thead>\n",
       "    <tr style=\"text-align: right;\">\n",
       "      <th></th>\n",
       "      <th>Cust_Id</th>\n",
       "      <th>Rating</th>\n",
       "    </tr>\n",
       "  </thead>\n",
       "  <tbody>\n",
       "    <tr>\n",
       "      <th>0</th>\n",
       "      <td>1:</td>\n",
       "      <td>NaN</td>\n",
       "    </tr>\n",
       "    <tr>\n",
       "      <th>1</th>\n",
       "      <td>1488844</td>\n",
       "      <td>3.0</td>\n",
       "    </tr>\n",
       "    <tr>\n",
       "      <th>2</th>\n",
       "      <td>822109</td>\n",
       "      <td>5.0</td>\n",
       "    </tr>\n",
       "    <tr>\n",
       "      <th>3</th>\n",
       "      <td>885013</td>\n",
       "      <td>4.0</td>\n",
       "    </tr>\n",
       "    <tr>\n",
       "      <th>4</th>\n",
       "      <td>30878</td>\n",
       "      <td>4.0</td>\n",
       "    </tr>\n",
       "    <tr>\n",
       "      <th>...</th>\n",
       "      <td>...</td>\n",
       "      <td>...</td>\n",
       "    </tr>\n",
       "    <tr>\n",
       "      <th>100498272</th>\n",
       "      <td>1790158</td>\n",
       "      <td>4.0</td>\n",
       "    </tr>\n",
       "    <tr>\n",
       "      <th>100498273</th>\n",
       "      <td>1608708</td>\n",
       "      <td>3.0</td>\n",
       "    </tr>\n",
       "    <tr>\n",
       "      <th>100498274</th>\n",
       "      <td>234275</td>\n",
       "      <td>1.0</td>\n",
       "    </tr>\n",
       "    <tr>\n",
       "      <th>100498275</th>\n",
       "      <td>255278</td>\n",
       "      <td>4.0</td>\n",
       "    </tr>\n",
       "    <tr>\n",
       "      <th>100498276</th>\n",
       "      <td>453585</td>\n",
       "      <td>2.0</td>\n",
       "    </tr>\n",
       "  </tbody>\n",
       "</table>\n",
       "<p>100498277 rows × 2 columns</p>\n",
       "</div>"
      ],
      "text/plain": [
       "           Cust_Id  Rating\n",
       "0               1:     NaN\n",
       "1          1488844     3.0\n",
       "2           822109     5.0\n",
       "3           885013     4.0\n",
       "4            30878     4.0\n",
       "...            ...     ...\n",
       "100498272  1790158     4.0\n",
       "100498273  1608708     3.0\n",
       "100498274   234275     1.0\n",
       "100498275   255278     4.0\n",
       "100498276   453585     2.0\n",
       "\n",
       "[100498277 rows x 2 columns]"
      ]
     },
     "execution_count": 4,
     "metadata": {},
     "output_type": "execute_result"
    }
   ],
   "source": [
    "ratings"
   ]
  },
  {
   "cell_type": "code",
   "execution_count": 4,
   "id": "8ff4fa28-e4d5-4753-9580-c2f4b4646bde",
   "metadata": {},
   "outputs": [
    {
     "data": {
      "text/plain": [
       "Cust_Id     object\n",
       "Rating     float64\n",
       "dtype: object"
      ]
     },
     "execution_count": 4,
     "metadata": {},
     "output_type": "execute_result"
    }
   ],
   "source": [
    "ratings.dtypes"
   ]
  },
  {
   "cell_type": "code",
   "execution_count": 5,
   "id": "13f08127-44d3-48d9-83d0-444829afe05f",
   "metadata": {},
   "outputs": [
    {
     "name": "stdout",
     "output_type": "stream",
     "text": [
      "<class 'pandas.core.frame.DataFrame'>\n",
      "Int64Index: 100480507 entries, 1 to 100498276\n",
      "Columns: 3 entries, Cust_Id to Movie_Id\n",
      "dtypes: uint16(3)\n",
      "memory usage: 1.3 GB\n",
      "CPU times: user 15.9 s, sys: 4.66 s, total: 20.6 s\n",
      "Wall time: 23.9 s\n"
     ]
    }
   ],
   "source": [
    "%%time\n",
    "#get indices of Movie ID rows\n",
    "movies = pd.DataFrame(pd.isnull(ratings.Rating))\n",
    "movies = movies[movies['Rating'] == True]\n",
    "movies = movies.reset_index()\n",
    "movie_rows = np.array(movies['index'], dtype = np.uint32)\n",
    "\n",
    "#fast way to generate movie id column\n",
    "new_rows = np.empty(len(ratings), dtype='uint16')\n",
    "temp = 0\n",
    "for i, j in enumerate(movie_rows):\n",
    "    if (i+1) == len(movie_rows):\n",
    "        new_rows[j:len(ratings)] = (i+1)\n",
    "    new_rows[temp:j] = i\n",
    "    temp = j\n",
    "\n",
    "#merge Movie ID columns with original DF\n",
    "#full_data = ratings\n",
    "ratings['Movie_Id'] = new_rows\n",
    "ratings.drop(index=movie_rows, inplace = True)\n",
    "\n",
    "#convert data to unsigned int32 to save memory.\n",
    "ratings = ratings.astype('uint16')\n",
    "\n",
    "del new_rows \n",
    "del movies\n",
    "del movie_rows\n",
    "\n",
    "gc.collect()\n",
    "\n",
    "ratings.info(verbose=False, memory_usage=\"deep\")\n",
    "\n"
   ]
  },
  {
   "cell_type": "code",
   "execution_count": 6,
   "id": "17304317-4b75-4b39-b807-cb78fb501f90",
   "metadata": {},
   "outputs": [
    {
     "data": {
      "text/html": [
       "<div>\n",
       "<style scoped>\n",
       "    .dataframe tbody tr th:only-of-type {\n",
       "        vertical-align: middle;\n",
       "    }\n",
       "\n",
       "    .dataframe tbody tr th {\n",
       "        vertical-align: top;\n",
       "    }\n",
       "\n",
       "    .dataframe thead th {\n",
       "        text-align: right;\n",
       "    }\n",
       "</style>\n",
       "<table border=\"1\" class=\"dataframe\">\n",
       "  <thead>\n",
       "    <tr style=\"text-align: right;\">\n",
       "      <th></th>\n",
       "      <th>Cust_Id</th>\n",
       "      <th>Rating</th>\n",
       "      <th>Movie_Id</th>\n",
       "    </tr>\n",
       "  </thead>\n",
       "  <tbody>\n",
       "    <tr>\n",
       "      <th>1</th>\n",
       "      <td>47052</td>\n",
       "      <td>3</td>\n",
       "      <td>1</td>\n",
       "    </tr>\n",
       "    <tr>\n",
       "      <th>2</th>\n",
       "      <td>35677</td>\n",
       "      <td>5</td>\n",
       "      <td>1</td>\n",
       "    </tr>\n",
       "    <tr>\n",
       "      <th>3</th>\n",
       "      <td>33045</td>\n",
       "      <td>4</td>\n",
       "      <td>1</td>\n",
       "    </tr>\n",
       "    <tr>\n",
       "      <th>4</th>\n",
       "      <td>30878</td>\n",
       "      <td>4</td>\n",
       "      <td>1</td>\n",
       "    </tr>\n",
       "    <tr>\n",
       "      <th>5</th>\n",
       "      <td>37087</td>\n",
       "      <td>3</td>\n",
       "      <td>1</td>\n",
       "    </tr>\n",
       "    <tr>\n",
       "      <th>...</th>\n",
       "      <td>...</td>\n",
       "      <td>...</td>\n",
       "      <td>...</td>\n",
       "    </tr>\n",
       "    <tr>\n",
       "      <th>100498272</th>\n",
       "      <td>20686</td>\n",
       "      <td>4</td>\n",
       "      <td>17770</td>\n",
       "    </tr>\n",
       "    <tr>\n",
       "      <th>100498273</th>\n",
       "      <td>35844</td>\n",
       "      <td>3</td>\n",
       "      <td>17770</td>\n",
       "    </tr>\n",
       "    <tr>\n",
       "      <th>100498274</th>\n",
       "      <td>37667</td>\n",
       "      <td>1</td>\n",
       "      <td>17770</td>\n",
       "    </tr>\n",
       "    <tr>\n",
       "      <th>100498275</th>\n",
       "      <td>58670</td>\n",
       "      <td>4</td>\n",
       "      <td>17770</td>\n",
       "    </tr>\n",
       "    <tr>\n",
       "      <th>100498276</th>\n",
       "      <td>60369</td>\n",
       "      <td>2</td>\n",
       "      <td>17770</td>\n",
       "    </tr>\n",
       "  </tbody>\n",
       "</table>\n",
       "<p>100480507 rows × 3 columns</p>\n",
       "</div>"
      ],
      "text/plain": [
       "           Cust_Id  Rating  Movie_Id\n",
       "1            47052       3         1\n",
       "2            35677       5         1\n",
       "3            33045       4         1\n",
       "4            30878       4         1\n",
       "5            37087       3         1\n",
       "...            ...     ...       ...\n",
       "100498272    20686       4     17770\n",
       "100498273    35844       3     17770\n",
       "100498274    37667       1     17770\n",
       "100498275    58670       4     17770\n",
       "100498276    60369       2     17770\n",
       "\n",
       "[100480507 rows x 3 columns]"
      ]
     },
     "execution_count": 6,
     "metadata": {},
     "output_type": "execute_result"
    }
   ],
   "source": [
    "ratings"
   ]
  },
  {
   "cell_type": "code",
   "execution_count": 7,
   "id": "b1c34c4d-25ad-4399-9b32-8898f2b1b3a4",
   "metadata": {},
   "outputs": [
    {
     "name": "stdout",
     "output_type": "stream",
     "text": [
      "                           ___:  7.6 GiB\n",
      "                            _3:  7.6 GiB\n",
      "                             _:  1.3 GiB\n",
      "                       ratings:  1.3 GiB\n",
      "                            _6:  1.3 GiB\n",
      "                           _ii:  839.0 B\n",
      "                           _i5:  839.0 B\n",
      "                           _i7:  587.0 B\n",
      "                            __:  459.0 B\n",
      "                            _4:  459.0 B\n"
     ]
    }
   ],
   "source": [
    "import sys\n",
    "def sizeof_fmt(num, suffix='B'):\n",
    "    ''' by Fred Cirera,  https://stackoverflow.com/a/1094933/1870254, modified'''\n",
    "    for unit in ['','Ki','Mi','Gi','Ti','Pi','Ei','Zi']:\n",
    "        if abs(num) < 1024.0:\n",
    "            return \"%3.1f %s%s\" % (num, unit, suffix)\n",
    "        num /= 1024.0\n",
    "    return \"%.1f %s%s\" % (num, 'Yi', suffix)\n",
    "\n",
    "for name, size in sorted(((name, sys.getsizeof(value)) for name, value in locals().items()),\n",
    "                         key= lambda x: -x[1])[:10]:\n",
    "    print(\"{:>30}: {:>8}\".format(name, sizeof_fmt(size)))\n"
   ]
  },
  {
   "cell_type": "markdown",
   "id": "cf7d9ed5-fece-4ea4-bff8-6095dd198706",
   "metadata": {},
   "source": [
    "garbage causing kernel crashes"
   ]
  },
  {
   "cell_type": "code",
   "execution_count": 8,
   "id": "9f46a523-cf8e-4c12-8939-2f5576824dbb",
   "metadata": {},
   "outputs": [],
   "source": [
    "ratings.to_csv('data/ratings.csv', index = False)"
   ]
  }
 ],
 "metadata": {
  "kernelspec": {
   "display_name": "Python 3 (ipykernel)",
   "language": "python",
   "name": "python3"
  },
  "language_info": {
   "codemirror_mode": {
    "name": "ipython",
    "version": 3
   },
   "file_extension": ".py",
   "mimetype": "text/x-python",
   "name": "python",
   "nbconvert_exporter": "python",
   "pygments_lexer": "ipython3",
   "version": "3.9.7"
  }
 },
 "nbformat": 4,
 "nbformat_minor": 5
}
